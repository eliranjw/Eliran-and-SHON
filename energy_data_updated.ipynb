{
 "cells": [
  {
   "cell_type": "markdown",
   "metadata": {
    "cell_id": "00000-d709ebdb-84be-4527-9057-cac603afe029",
    "deepnote_cell_type": "text-cell-h3",
    "tags": []
   },
   "source": [
    "### Importing libraries"
   ]
  },
  {
   "cell_type": "code",
   "execution_count": 1,
   "metadata": {
    "cell_id": "00000-efcb3751-9707-4e0e-84e7-01ca28b1b1f2",
    "deepnote_cell_type": "code",
    "deepnote_to_be_reexecuted": false,
    "execution_millis": 2601,
    "execution_start": 1623847074743,
    "source_hash": "d75130a6",
    "tags": []
   },
   "outputs": [],
   "source": [
    "import pandas as pd # library for data analysis\n",
    "import numpy as np # numerical python\n",
    "import matplotlib.pyplot as plt # data viz\n",
    "import seaborn as sns # data viz"
   ]
  },
  {
   "cell_type": "code",
   "execution_count": 2,
   "metadata": {
    "cell_id": "00002-e94fea8e-f2e3-4293-ab0e-4a6cfd32aa74",
    "deepnote_cell_type": "code",
    "deepnote_to_be_reexecuted": false,
    "execution_millis": 951,
    "execution_start": 1623847077353,
    "source_hash": "b6028108",
    "tags": []
   },
   "outputs": [],
   "source": [
    "from sklearn.preprocessing import MinMaxScaler"
   ]
  },
  {
   "cell_type": "code",
   "execution_count": 3,
   "metadata": {
    "cell_id": "00002-3a62a721-a183-4038-b7fb-9405edda7d2c",
    "deepnote_cell_type": "code",
    "deepnote_to_be_reexecuted": false,
    "execution_millis": 4,
    "execution_start": 1623847078311,
    "source_hash": "988e4b6f",
    "tags": []
   },
   "outputs": [],
   "source": [
    "#!apt update\n",
    "#!apt install ffmpeg libsm6 libxext6 -y"
   ]
  },
  {
   "cell_type": "markdown",
   "metadata": {
    "cell_id": "00013-7ad00988-93f0-4558-845f-335e8e4051c2",
    "deepnote_cell_type": "text-cell-h3",
    "tags": []
   },
   "source": [
    "### Scraping BP dataset"
   ]
  },
  {
   "cell_type": "markdown",
   "metadata": {
    "cell_id": "00004-b1ef19ee-8f8f-4462-859e-b611c3e9a9ee",
    "deepnote_cell_type": "text-cell-p",
    "tags": []
   },
   "source": [
    "Here, we are using only one source dataset taken from BP excel dataset, it has so many sheet that has enugh information to do research about the impact of renewable energy to Co2 emission"
   ]
  },
  {
   "cell_type": "code",
   "execution_count": 4,
   "metadata": {
    "cell_id": "00014-73bf45e3-7378-4178-81e1-2f0f2bc2569a",
    "deepnote_cell_type": "code",
    "deepnote_to_be_reexecuted": false,
    "execution_millis": 1343,
    "execution_start": 1623847078319,
    "source_hash": "a07b9aed",
    "tags": []
   },
   "outputs": [],
   "source": [
    "raw_bp = pd.ExcelFile('https://www.bp.com/content/dam/bp/business-sites/en/global/corporate/xlsx/energy-economics/statistical-review/bp-stats-review-2020-all-data.xlsx')"
   ]
  },
  {
   "cell_type": "markdown",
   "metadata": {
    "cell_id": "00014-3856b18b-9c02-4751-ab7d-dd631402a1fe",
    "deepnote_cell_type": "text-cell-p",
    "tags": []
   },
   "source": [
    "BP dataset in the excel file has many sheet, we take the one that support our research question, here we choose Primary&nbsp;Energy&nbsp;Consumption, Renewables Consumption, and Carbon Dioxide Emissions"
   ]
  },
  {
   "cell_type": "code",
   "execution_count": 5,
   "metadata": {
    "cell_id": "00019-867af189-a655-4d99-9224-9fa4ed87334a",
    "deepnote_cell_type": "code",
    "deepnote_to_be_reexecuted": false,
    "execution_millis": 18,
    "execution_start": 1623847079679,
    "source_hash": "64533406",
    "tags": []
   },
   "outputs": [
    {
     "data": {
      "text/plain": [
       "['Contents',\n",
       " 'Primary Energy Consumption',\n",
       " 'Primary Energy - Cons by fuel',\n",
       " 'Primary Energy - Cons capita',\n",
       " 'Carbon Dioxide Emissions',\n",
       " 'Oil - Proved reserves',\n",
       " 'Oil - Proved reserves history',\n",
       " 'Oil Production - Barrels',\n",
       " 'Oil Production - Tonnes',\n",
       " 'Oil Production - Crude Conds',\n",
       " 'Oil Production - NGLs',\n",
       " 'Total Liquids - Consumption',\n",
       " 'Oil Consumption - Barrels',\n",
       " 'Oil Consumption - Tonnes',\n",
       " 'Oil Consumption - EJ',\n",
       " 'Oil - Regional Consumption ',\n",
       " 'Oil - Spot crude prices',\n",
       " 'Oil - Crude prices since 1861',\n",
       " 'Oil - Refinery throughput',\n",
       " 'Oil - Refining capacity',\n",
       " 'Oil - Regional refining margins',\n",
       " 'Oil - Trade movements',\n",
       " 'Oil - Inter-area movements ',\n",
       " 'Oil - Trade 2018 - 2019',\n",
       " 'Gas - Proved reserves',\n",
       " 'Gas - Proved reserves history ',\n",
       " 'Gas Production - Bcm',\n",
       " 'Gas Production - Bcf',\n",
       " 'Gas Production - EJ',\n",
       " 'Gas Consumption - Bcm',\n",
       " 'Gas Consumption - Bcf',\n",
       " 'Gas Consumption - EJ',\n",
       " 'Gas - Prices ',\n",
       " 'Gas - Inter-regional trade',\n",
       " 'Gas - LNG imports',\n",
       " 'Gas - LNG exports',\n",
       " 'Gas - Trade movts LNG',\n",
       " 'Gas - Trade movts - pipeline',\n",
       " 'Coal - Reserves',\n",
       " 'Coal Production - Tonnes',\n",
       " 'Coal Production - EJ',\n",
       " 'Coal Consumption - EJ',\n",
       " 'Coal - Prices',\n",
       " 'Coal - Trade movements',\n",
       " 'Coal - Inter area movts',\n",
       " 'Nuclear Generation - TWh',\n",
       " 'Nuclear Consumption - EJ',\n",
       " 'Hydro Generation - TWh',\n",
       " 'Hydro Consumption - EJ',\n",
       " 'Renewables Consumption - EJ',\n",
       " 'Renewables Power - EJ',\n",
       " 'Renewables Power - Twh',\n",
       " 'Renewables Generation by source',\n",
       " 'Solar Generation - TWh',\n",
       " 'Solar Consumption - EJ',\n",
       " 'Wind Generation -TWh',\n",
       " 'Wind Consumption - EJ',\n",
       " 'Geo Biomass Other - TWh',\n",
       " 'Geo Biomass Other - EJ',\n",
       " 'Biofuels Production - Kboed',\n",
       " 'Biofuels Production - PJ',\n",
       " 'Biofuels Consumption - Kboed',\n",
       " 'Biofuels Consumption - PJ',\n",
       " 'Electricity Generation ',\n",
       " 'Elec Gen by fuel',\n",
       " 'Elec Gen from Oil',\n",
       " 'Elec Gen from Gas',\n",
       " 'Elec Gen from Coal',\n",
       " 'Elec Gen from Other',\n",
       " 'Cobalt Production-Reserves',\n",
       " 'Lithium Production-Reserves',\n",
       " 'Graphite Production-Reserves',\n",
       " 'Rare Earth Production-Reserves',\n",
       " 'Cobalt and Lithium - Prices',\n",
       " 'Geothermal Capacity',\n",
       " 'Solar Capacity',\n",
       " 'Wind Capacity',\n",
       " 'Approximate conversion factors',\n",
       " 'Definitions',\n",
       " 'Methodology']"
      ]
     },
     "execution_count": 5,
     "metadata": {},
     "output_type": "execute_result"
    }
   ],
   "source": [
    "# checking all sheet in BP dataset\n",
    "raw_bp.sheet_names"
   ]
  },
  {
   "cell_type": "markdown",
   "metadata": {
    "cell_id": "00008-438e7ee2-b42a-4663-bfb7-c2ca335403a8",
    "deepnote_cell_type": "text-cell-h3",
    "tags": []
   },
   "source": [
    "### Energy Consumption"
   ]
  },
  {
   "cell_type": "code",
   "execution_count": 10,
   "metadata": {
    "cell_id": "00019-b8704fd9-04cb-43ef-bb65-0442fba3dfe6",
    "deepnote_cell_type": "code",
    "deepnote_to_be_reexecuted": false,
    "execution_millis": 298,
    "execution_start": 1623847079691,
    "source_hash": "3c5007e6",
    "tags": []
   },
   "outputs": [],
   "source": [
    "# Creating energy consumtion dataframe from BP dataset\n",
    "energy_consumption = pd.read_excel(raw_bp, 'Primary Energy Consumption', header=2)"
   ]
  },
  {
   "cell_type": "code",
   "execution_count": 11,
   "metadata": {
    "cell_id": "00017-96336b02-a060-438a-9dcc-284dcbc8c28b",
    "deepnote_cell_type": "code",
    "deepnote_to_be_reexecuted": false,
    "execution_millis": 16,
    "execution_start": 1623847080010,
    "source_hash": "6951c01b",
    "tags": []
   },
   "outputs": [],
   "source": [
    "energy_consumption = energy_consumption.dropna(how='all') # drop rows that has all nan values\n",
    "energy_consumption = energy_consumption.iloc[:-13,:-5] #Selecting rows\n",
    "searchfor = [\"Total\",\"Other\",\"Excludes\"] \n",
    "energy_consumption = energy_consumption[~energy_consumption.Exajoules.str.contains('|'.join(searchfor))] # deleting rows that has values in 'searchfor'\n",
    "energy_consumption.rename(columns={'Exajoules': 'country_name'}, inplace=True)"
   ]
  },
  {
   "cell_type": "code",
   "execution_count": 12,
   "metadata": {
    "cell_id": "00010-6f54fc1c-b802-4a96-94ee-fed46f8ccfe2",
    "deepnote_cell_type": "code",
    "deepnote_to_be_reexecuted": false,
    "execution_millis": 238,
    "execution_start": 1623847080085,
    "source_hash": "598b0c60",
    "tags": []
   },
   "outputs": [
    {
     "data": {
      "text/html": [
       "<div>\n",
       "<style scoped>\n",
       "    .dataframe tbody tr th:only-of-type {\n",
       "        vertical-align: middle;\n",
       "    }\n",
       "\n",
       "    .dataframe tbody tr th {\n",
       "        vertical-align: top;\n",
       "    }\n",
       "\n",
       "    .dataframe thead th {\n",
       "        text-align: right;\n",
       "    }\n",
       "</style>\n",
       "<table border=\"1\" class=\"dataframe\">\n",
       "  <thead>\n",
       "    <tr style=\"text-align: right;\">\n",
       "      <th></th>\n",
       "      <th>country_name</th>\n",
       "      <th>1965</th>\n",
       "      <th>1966</th>\n",
       "      <th>1967</th>\n",
       "      <th>1968</th>\n",
       "      <th>1969</th>\n",
       "      <th>1970</th>\n",
       "      <th>1971</th>\n",
       "      <th>1972</th>\n",
       "      <th>1973</th>\n",
       "      <th>...</th>\n",
       "      <th>2010</th>\n",
       "      <th>2011</th>\n",
       "      <th>2012</th>\n",
       "      <th>2013</th>\n",
       "      <th>2014</th>\n",
       "      <th>2015</th>\n",
       "      <th>2016</th>\n",
       "      <th>2017</th>\n",
       "      <th>2018</th>\n",
       "      <th>2019</th>\n",
       "    </tr>\n",
       "  </thead>\n",
       "  <tbody>\n",
       "    <tr>\n",
       "      <th>1</th>\n",
       "      <td>Canada</td>\n",
       "      <td>4.924317</td>\n",
       "      <td>5.239095</td>\n",
       "      <td>5.480214</td>\n",
       "      <td>5.836056</td>\n",
       "      <td>6.185953</td>\n",
       "      <td>6.624581</td>\n",
       "      <td>6.831992</td>\n",
       "      <td>7.348642</td>\n",
       "      <td>7.857612</td>\n",
       "      <td>...</td>\n",
       "      <td>13.006501</td>\n",
       "      <td>13.605144</td>\n",
       "      <td>13.468474</td>\n",
       "      <td>13.881791</td>\n",
       "      <td>14.031964</td>\n",
       "      <td>13.993650</td>\n",
       "      <td>13.936678</td>\n",
       "      <td>14.109482</td>\n",
       "      <td>14.349534</td>\n",
       "      <td>14.214058</td>\n",
       "    </tr>\n",
       "    <tr>\n",
       "      <th>2</th>\n",
       "      <td>Mexico</td>\n",
       "      <td>1.050253</td>\n",
       "      <td>1.111572</td>\n",
       "      <td>1.132470</td>\n",
       "      <td>1.232997</td>\n",
       "      <td>1.353689</td>\n",
       "      <td>1.444834</td>\n",
       "      <td>1.519984</td>\n",
       "      <td>1.680466</td>\n",
       "      <td>1.812695</td>\n",
       "      <td>...</td>\n",
       "      <td>7.308951</td>\n",
       "      <td>7.660041</td>\n",
       "      <td>7.705558</td>\n",
       "      <td>7.738309</td>\n",
       "      <td>7.697182</td>\n",
       "      <td>7.688300</td>\n",
       "      <td>7.785419</td>\n",
       "      <td>7.895341</td>\n",
       "      <td>7.833322</td>\n",
       "      <td>7.720742</td>\n",
       "    </tr>\n",
       "    <tr>\n",
       "      <th>3</th>\n",
       "      <td>US</td>\n",
       "      <td>52.433795</td>\n",
       "      <td>55.383038</td>\n",
       "      <td>57.311776</td>\n",
       "      <td>60.799094</td>\n",
       "      <td>64.049612</td>\n",
       "      <td>66.215508</td>\n",
       "      <td>67.591944</td>\n",
       "      <td>71.064330</td>\n",
       "      <td>73.984875</td>\n",
       "      <td>...</td>\n",
       "      <td>92.972589</td>\n",
       "      <td>92.088362</td>\n",
       "      <td>89.687765</td>\n",
       "      <td>92.095480</td>\n",
       "      <td>93.054168</td>\n",
       "      <td>92.149004</td>\n",
       "      <td>92.017799</td>\n",
       "      <td>92.330525</td>\n",
       "      <td>95.602919</td>\n",
       "      <td>94.648804</td>\n",
       "    </tr>\n",
       "    <tr>\n",
       "      <th>6</th>\n",
       "      <td>Argentina</td>\n",
       "      <td>1.127632</td>\n",
       "      <td>1.165108</td>\n",
       "      <td>1.199725</td>\n",
       "      <td>1.241234</td>\n",
       "      <td>1.283912</td>\n",
       "      <td>1.212762</td>\n",
       "      <td>1.288378</td>\n",
       "      <td>1.311442</td>\n",
       "      <td>1.367910</td>\n",
       "      <td>...</td>\n",
       "      <td>3.227137</td>\n",
       "      <td>3.289076</td>\n",
       "      <td>3.382872</td>\n",
       "      <td>3.524577</td>\n",
       "      <td>3.506861</td>\n",
       "      <td>3.585803</td>\n",
       "      <td>3.576195</td>\n",
       "      <td>3.566920</td>\n",
       "      <td>3.540866</td>\n",
       "      <td>3.462769</td>\n",
       "    </tr>\n",
       "    <tr>\n",
       "      <th>7</th>\n",
       "      <td>Brazil</td>\n",
       "      <td>0.969469</td>\n",
       "      <td>1.057605</td>\n",
       "      <td>1.095653</td>\n",
       "      <td>1.252840</td>\n",
       "      <td>1.367832</td>\n",
       "      <td>1.585817</td>\n",
       "      <td>1.734259</td>\n",
       "      <td>1.997880</td>\n",
       "      <td>2.382002</td>\n",
       "      <td>...</td>\n",
       "      <td>10.981271</td>\n",
       "      <td>11.482705</td>\n",
       "      <td>11.688261</td>\n",
       "      <td>12.130483</td>\n",
       "      <td>12.401466</td>\n",
       "      <td>12.233422</td>\n",
       "      <td>11.918520</td>\n",
       "      <td>12.063701</td>\n",
       "      <td>12.134312</td>\n",
       "      <td>12.403434</td>\n",
       "    </tr>\n",
       "  </tbody>\n",
       "</table>\n",
       "<p>5 rows × 56 columns</p>\n",
       "</div>"
      ],
      "text/plain": [
       "  country_name       1965       1966       1967       1968       1969  \\\n",
       "1       Canada   4.924317   5.239095   5.480214   5.836056   6.185953   \n",
       "2       Mexico   1.050253   1.111572   1.132470   1.232997   1.353689   \n",
       "3           US  52.433795  55.383038  57.311776  60.799094  64.049612   \n",
       "6    Argentina   1.127632   1.165108   1.199725   1.241234   1.283912   \n",
       "7       Brazil   0.969469   1.057605   1.095653   1.252840   1.367832   \n",
       "\n",
       "        1970       1971       1972       1973  ...       2010       2011  \\\n",
       "1   6.624581   6.831992   7.348642   7.857612  ...  13.006501  13.605144   \n",
       "2   1.444834   1.519984   1.680466   1.812695  ...   7.308951   7.660041   \n",
       "3  66.215508  67.591944  71.064330  73.984875  ...  92.972589  92.088362   \n",
       "6   1.212762   1.288378   1.311442   1.367910  ...   3.227137   3.289076   \n",
       "7   1.585817   1.734259   1.997880   2.382002  ...  10.981271  11.482705   \n",
       "\n",
       "        2012       2013       2014       2015       2016       2017  \\\n",
       "1  13.468474  13.881791  14.031964  13.993650  13.936678  14.109482   \n",
       "2   7.705558   7.738309   7.697182   7.688300   7.785419   7.895341   \n",
       "3  89.687765  92.095480  93.054168  92.149004  92.017799  92.330525   \n",
       "6   3.382872   3.524577   3.506861   3.585803   3.576195   3.566920   \n",
       "7  11.688261  12.130483  12.401466  12.233422  11.918520  12.063701   \n",
       "\n",
       "        2018       2019  \n",
       "1  14.349534  14.214058  \n",
       "2   7.833322   7.720742  \n",
       "3  95.602919  94.648804  \n",
       "6   3.540866   3.462769  \n",
       "7  12.134312  12.403434  \n",
       "\n",
       "[5 rows x 56 columns]"
      ]
     },
     "execution_count": 12,
     "metadata": {},
     "output_type": "execute_result"
    }
   ],
   "source": [
    "energy_consumption.head()  #Check if we have cleaned the data properly"
   ]
  },
  {
   "cell_type": "code",
   "execution_count": 13,
   "metadata": {
    "cell_id": "00018-3053b319-de51-4e4f-aefe-8e7de7507236",
    "deepnote_cell_type": "code",
    "deepnote_to_be_reexecuted": false,
    "execution_millis": 0,
    "execution_start": 1623847080370,
    "source_hash": "3d8a13f9",
    "tags": []
   },
   "outputs": [],
   "source": [
    "energy_consumption_tr = energy_consumption.transpose() #transpose dataframe\n",
    "new_header = energy_consumption_tr.iloc[0] #grab the first row for the header\n",
    "energy_consumption_tr = energy_consumption_tr[1:] #take the data less the header row\n",
    "energy_consumption_tr.columns = new_header #set the header row as the df header\n",
    "\n",
    "# insert year column\n",
    "energy_consumption_tr.insert(loc = 0,\n",
    "                     column = 'year',\n",
    "                     value = energy_consumption_tr.index)\n",
    "\n",
    "energy_consumption_tr.reset_index(drop=True, inplace=True) # reset index\n",
    "energy_consumption_tr.rename_axis(None, axis=1, inplace=True) # remove index name"
   ]
  },
  {
   "cell_type": "code",
   "execution_count": 18,
   "metadata": {
    "cell_id": "00013-23a81380-34e6-48fa-8b64-7a408719fbfd",
    "deepnote_cell_type": "code",
    "deepnote_to_be_reexecuted": false,
    "execution_millis": 44,
    "execution_start": 1623847080371,
    "source_hash": "f0d8bc61",
    "tags": []
   },
   "outputs": [],
   "source": [
    "# converting type in selected column/s\n",
    "energy_consumption_tr['year'] = energy_consumption_tr['year'].astype(int)\n",
    "energy_consumption_tr[energy_consumption_tr.columns[1:len(energy_consumption_tr.columns)]] = energy_consumption_tr[energy_consumption_tr.columns[1:len(energy_consumption_tr.columns)]].astype(float)"
   ]
  },
  {
   "cell_type": "code",
   "execution_count": 19,
   "metadata": {
    "cell_id": "00014-da9a7432-8f2b-41c3-9518-004acfa26809",
    "deepnote_cell_type": "code",
    "deepnote_to_be_reexecuted": false,
    "execution_millis": 432,
    "execution_start": 1623847080416,
    "source_hash": "75a6b55c",
    "tags": []
   },
   "outputs": [
    {
     "data": {
      "text/html": [
       "<div>\n",
       "<style scoped>\n",
       "    .dataframe tbody tr th:only-of-type {\n",
       "        vertical-align: middle;\n",
       "    }\n",
       "\n",
       "    .dataframe tbody tr th {\n",
       "        vertical-align: top;\n",
       "    }\n",
       "\n",
       "    .dataframe thead th {\n",
       "        text-align: right;\n",
       "    }\n",
       "</style>\n",
       "<table border=\"1\" class=\"dataframe\">\n",
       "  <thead>\n",
       "    <tr style=\"text-align: right;\">\n",
       "      <th></th>\n",
       "      <th>year</th>\n",
       "      <th>Canada</th>\n",
       "      <th>Mexico</th>\n",
       "      <th>US</th>\n",
       "      <th>Argentina</th>\n",
       "      <th>Brazil</th>\n",
       "      <th>Chile</th>\n",
       "      <th>Colombia</th>\n",
       "      <th>Ecuador</th>\n",
       "      <th>Peru</th>\n",
       "      <th>...</th>\n",
       "      <th>Malaysia</th>\n",
       "      <th>New Zealand</th>\n",
       "      <th>Pakistan</th>\n",
       "      <th>Philippines</th>\n",
       "      <th>Singapore</th>\n",
       "      <th>South Korea</th>\n",
       "      <th>Sri Lanka</th>\n",
       "      <th>Taiwan</th>\n",
       "      <th>Thailand</th>\n",
       "      <th>Vietnam</th>\n",
       "    </tr>\n",
       "  </thead>\n",
       "  <tbody>\n",
       "    <tr>\n",
       "      <th>0</th>\n",
       "      <td>1965</td>\n",
       "      <td>4.924317</td>\n",
       "      <td>1.050253</td>\n",
       "      <td>52.433795</td>\n",
       "      <td>1.127632</td>\n",
       "      <td>0.969469</td>\n",
       "      <td>0.260339</td>\n",
       "      <td>0.317745</td>\n",
       "      <td>0.031004</td>\n",
       "      <td>0.201675</td>\n",
       "      <td>...</td>\n",
       "      <td>0.104124</td>\n",
       "      <td>0.300031</td>\n",
       "      <td>0.294591</td>\n",
       "      <td>0.196229</td>\n",
       "      <td>0.172397</td>\n",
       "      <td>0.268883</td>\n",
       "      <td>0.023394</td>\n",
       "      <td>0.251619</td>\n",
       "      <td>0.110001</td>\n",
       "      <td>0.105819</td>\n",
       "    </tr>\n",
       "    <tr>\n",
       "      <th>1</th>\n",
       "      <td>1966</td>\n",
       "      <td>5.239095</td>\n",
       "      <td>1.111572</td>\n",
       "      <td>55.383038</td>\n",
       "      <td>1.165108</td>\n",
       "      <td>1.057605</td>\n",
       "      <td>0.279121</td>\n",
       "      <td>0.346224</td>\n",
       "      <td>0.032621</td>\n",
       "      <td>0.245395</td>\n",
       "      <td>...</td>\n",
       "      <td>0.121500</td>\n",
       "      <td>0.318714</td>\n",
       "      <td>0.296810</td>\n",
       "      <td>0.212103</td>\n",
       "      <td>0.197077</td>\n",
       "      <td>0.326130</td>\n",
       "      <td>0.024210</td>\n",
       "      <td>0.269637</td>\n",
       "      <td>0.131051</td>\n",
       "      <td>0.185083</td>\n",
       "    </tr>\n",
       "    <tr>\n",
       "      <th>2</th>\n",
       "      <td>1967</td>\n",
       "      <td>5.480214</td>\n",
       "      <td>1.132470</td>\n",
       "      <td>57.311776</td>\n",
       "      <td>1.199725</td>\n",
       "      <td>1.095653</td>\n",
       "      <td>0.284560</td>\n",
       "      <td>0.368583</td>\n",
       "      <td>0.035292</td>\n",
       "      <td>0.249737</td>\n",
       "      <td>...</td>\n",
       "      <td>0.122825</td>\n",
       "      <td>0.321344</td>\n",
       "      <td>0.328511</td>\n",
       "      <td>0.238249</td>\n",
       "      <td>0.236722</td>\n",
       "      <td>0.374809</td>\n",
       "      <td>0.024810</td>\n",
       "      <td>0.294464</td>\n",
       "      <td>0.149160</td>\n",
       "      <td>0.255110</td>\n",
       "    </tr>\n",
       "    <tr>\n",
       "      <th>3</th>\n",
       "      <td>1968</td>\n",
       "      <td>5.836056</td>\n",
       "      <td>1.232997</td>\n",
       "      <td>60.799094</td>\n",
       "      <td>1.241234</td>\n",
       "      <td>1.252840</td>\n",
       "      <td>0.283866</td>\n",
       "      <td>0.388302</td>\n",
       "      <td>0.041700</td>\n",
       "      <td>0.254294</td>\n",
       "      <td>...</td>\n",
       "      <td>0.125198</td>\n",
       "      <td>0.328637</td>\n",
       "      <td>0.372853</td>\n",
       "      <td>0.269161</td>\n",
       "      <td>0.294244</td>\n",
       "      <td>0.429671</td>\n",
       "      <td>0.025945</td>\n",
       "      <td>0.337735</td>\n",
       "      <td>0.191592</td>\n",
       "      <td>0.264528</td>\n",
       "    </tr>\n",
       "    <tr>\n",
       "      <th>4</th>\n",
       "      <td>1969</td>\n",
       "      <td>6.185953</td>\n",
       "      <td>1.353689</td>\n",
       "      <td>64.049612</td>\n",
       "      <td>1.283912</td>\n",
       "      <td>1.367832</td>\n",
       "      <td>0.305712</td>\n",
       "      <td>0.395002</td>\n",
       "      <td>0.044295</td>\n",
       "      <td>0.256096</td>\n",
       "      <td>...</td>\n",
       "      <td>0.131137</td>\n",
       "      <td>0.334485</td>\n",
       "      <td>0.374545</td>\n",
       "      <td>0.288331</td>\n",
       "      <td>0.289147</td>\n",
       "      <td>0.518672</td>\n",
       "      <td>0.027186</td>\n",
       "      <td>0.354152</td>\n",
       "      <td>0.202633</td>\n",
       "      <td>0.312456</td>\n",
       "    </tr>\n",
       "  </tbody>\n",
       "</table>\n",
       "<p>5 rows × 85 columns</p>\n",
       "</div>"
      ],
      "text/plain": [
       "   year    Canada    Mexico         US  Argentina    Brazil     Chile  \\\n",
       "0  1965  4.924317  1.050253  52.433795   1.127632  0.969469  0.260339   \n",
       "1  1966  5.239095  1.111572  55.383038   1.165108  1.057605  0.279121   \n",
       "2  1967  5.480214  1.132470  57.311776   1.199725  1.095653  0.284560   \n",
       "3  1968  5.836056  1.232997  60.799094   1.241234  1.252840  0.283866   \n",
       "4  1969  6.185953  1.353689  64.049612   1.283912  1.367832  0.305712   \n",
       "\n",
       "   Colombia   Ecuador      Peru  ...  Malaysia  New Zealand  Pakistan  \\\n",
       "0  0.317745  0.031004  0.201675  ...  0.104124     0.300031  0.294591   \n",
       "1  0.346224  0.032621  0.245395  ...  0.121500     0.318714  0.296810   \n",
       "2  0.368583  0.035292  0.249737  ...  0.122825     0.321344  0.328511   \n",
       "3  0.388302  0.041700  0.254294  ...  0.125198     0.328637  0.372853   \n",
       "4  0.395002  0.044295  0.256096  ...  0.131137     0.334485  0.374545   \n",
       "\n",
       "   Philippines  Singapore  South Korea  Sri Lanka    Taiwan  Thailand  \\\n",
       "0     0.196229   0.172397     0.268883   0.023394  0.251619  0.110001   \n",
       "1     0.212103   0.197077     0.326130   0.024210  0.269637  0.131051   \n",
       "2     0.238249   0.236722     0.374809   0.024810  0.294464  0.149160   \n",
       "3     0.269161   0.294244     0.429671   0.025945  0.337735  0.191592   \n",
       "4     0.288331   0.289147     0.518672   0.027186  0.354152  0.202633   \n",
       "\n",
       "    Vietnam  \n",
       "0  0.105819  \n",
       "1  0.185083  \n",
       "2  0.255110  \n",
       "3  0.264528  \n",
       "4  0.312456  \n",
       "\n",
       "[5 rows x 85 columns]"
      ]
     },
     "execution_count": 19,
     "metadata": {},
     "output_type": "execute_result"
    }
   ],
   "source": [
    "# showing 5 first dataset\n",
    "energy_consumption_tr.head()"
   ]
  },
  {
   "cell_type": "code",
   "execution_count": 22,
   "metadata": {
    "cell_id": "00015-058f9b68-dbcd-469d-bad6-72e08aee09a5",
    "deepnote_cell_type": "code",
    "deepnote_to_be_reexecuted": false,
    "execution_millis": 817,
    "execution_start": 1623847080845,
    "source_hash": "3ec6db0",
    "tags": []
   },
   "outputs": [
    {
     "data": {
      "text/plain": [
       "<matplotlib.axes._subplots.AxesSubplot at 0x1d8462dd648>"
      ]
     },
     "execution_count": 22,
     "metadata": {},
     "output_type": "execute_result"
    },
    {
     "data": {
      "image/png": "[encoded data removed]",
      "text/plain": [
       "<Figure size 432x288 with 1 Axes>"
      ]
     },
     "metadata": {
      "needs_background": "light"
     },
     "output_type": "display_data"
    }
   ],
   "source": [
    "# Visualize 10 most highest co2 emission countries\n",
    "energy_10 = energy_consumption.nlargest(8, 2019).melt(id_vars=['country_name'], var_name='year', value_name='energy_consumption')\n",
    "sns.lineplot(x='year', y='energy_consumption', hue='country_name', data=energy_10)"
   ]
  },
  {
   "cell_type": "markdown",
   "metadata": {
    "cell_id": "00014-d4ea3743-e55e-4d14-82fc-2cb13fa09109",
    "deepnote_cell_type": "text-cell-h3",
    "tags": []
   },
   "source": [
    "### Carbon&nbsp;Dioxide&nbsp;Emissions"
   ]
  },
  {
   "cell_type": "code",
   "execution_count": 13,
   "metadata": {
    "cell_id": "00015-c80b4df1-9e0e-45dd-88ea-cb7d65d4569a",
    "deepnote_cell_type": "code",
    "deepnote_to_be_reexecuted": false,
    "execution_millis": 270,
    "execution_start": 1623847081691,
    "source_hash": "78590c38",
    "tags": []
   },
   "outputs": [],
   "source": [
    "co2_emissions = pd.read_excel(raw_bp, 'Carbon Dioxide Emissions', header=2)\n",
    "co2_emissions = co2_emissions.dropna(how='all')\n",
    "co2_emissions = co2_emissions.iloc[:-13,:-5]\n",
    "searchfor = [\"Total\",\"Other\",\"Excludes\"]\n",
    "co2_emissions = co2_emissions[~co2_emissions['Million tonnes of carbon dioxide'].str.contains('|'.join(searchfor))]\n",
    "co2_emissions.rename(columns={'Million tonnes of carbon dioxide': 'country_name'}, inplace=True)"
   ]
  },
  {
   "cell_type": "code",
   "execution_count": 14,
   "metadata": {
    "cell_id": "00016-054fe6a4-c89b-468c-8a56-5c7fe5d25dab",
    "deepnote_cell_type": "code",
    "deepnote_to_be_reexecuted": false,
    "execution_millis": 284,
    "execution_start": 1623847081987,
    "source_hash": "c2302c83",
    "tags": []
   },
   "outputs": [
    {
     "data": {
      "text/html": [
       "<div>\n",
       "<style scoped>\n",
       "    .dataframe tbody tr th:only-of-type {\n",
       "        vertical-align: middle;\n",
       "    }\n",
       "\n",
       "    .dataframe tbody tr th {\n",
       "        vertical-align: top;\n",
       "    }\n",
       "\n",
       "    .dataframe thead th {\n",
       "        text-align: right;\n",
       "    }\n",
       "</style>\n",
       "<table border=\"1\" class=\"dataframe\">\n",
       "  <thead>\n",
       "    <tr style=\"text-align: right;\">\n",
       "      <th></th>\n",
       "      <th>country_name</th>\n",
       "      <th>1965</th>\n",
       "      <th>1966</th>\n",
       "      <th>1967</th>\n",
       "      <th>1968</th>\n",
       "      <th>1969</th>\n",
       "      <th>1970</th>\n",
       "      <th>1971</th>\n",
       "      <th>1972</th>\n",
       "      <th>1973</th>\n",
       "      <th>...</th>\n",
       "      <th>2010</th>\n",
       "      <th>2011</th>\n",
       "      <th>2012</th>\n",
       "      <th>2013</th>\n",
       "      <th>2014</th>\n",
       "      <th>2015</th>\n",
       "      <th>2016</th>\n",
       "      <th>2017</th>\n",
       "      <th>2018</th>\n",
       "      <th>2019</th>\n",
       "    </tr>\n",
       "  </thead>\n",
       "  <tbody>\n",
       "    <tr>\n",
       "      <th>1</th>\n",
       "      <td>Canada</td>\n",
       "      <td>260.332557</td>\n",
       "      <td>271.698929</td>\n",
       "      <td>285.537480</td>\n",
       "      <td>308.284201</td>\n",
       "      <td>320.447741</td>\n",
       "      <td>344.908460</td>\n",
       "      <td>351.586651</td>\n",
       "      <td>367.977437</td>\n",
       "      <td>386.717056</td>\n",
       "      <td>...</td>\n",
       "      <td>530.094931</td>\n",
       "      <td>541.020754</td>\n",
       "      <td>526.312965</td>\n",
       "      <td>544.096067</td>\n",
       "      <td>553.458312</td>\n",
       "      <td>546.233373</td>\n",
       "      <td>537.777358</td>\n",
       "      <td>549.107572</td>\n",
       "      <td>565.635679</td>\n",
       "      <td>556.188552</td>\n",
       "    </tr>\n",
       "    <tr>\n",
       "      <th>2</th>\n",
       "      <td>Mexico</td>\n",
       "      <td>62.134189</td>\n",
       "      <td>65.056561</td>\n",
       "      <td>66.648353</td>\n",
       "      <td>72.171786</td>\n",
       "      <td>79.107628</td>\n",
       "      <td>84.173086</td>\n",
       "      <td>89.462540</td>\n",
       "      <td>99.668266</td>\n",
       "      <td>107.674113</td>\n",
       "      <td>...</td>\n",
       "      <td>442.611064</td>\n",
       "      <td>465.846905</td>\n",
       "      <td>473.972290</td>\n",
       "      <td>472.839136</td>\n",
       "      <td>459.630951</td>\n",
       "      <td>463.121335</td>\n",
       "      <td>468.791476</td>\n",
       "      <td>476.945856</td>\n",
       "      <td>466.575628</td>\n",
       "      <td>454.972919</td>\n",
       "    </tr>\n",
       "    <tr>\n",
       "      <th>3</th>\n",
       "      <td>US</td>\n",
       "      <td>3480.084706</td>\n",
       "      <td>3675.466374</td>\n",
       "      <td>3772.622833</td>\n",
       "      <td>3994.225972</td>\n",
       "      <td>4170.119294</td>\n",
       "      <td>4298.208775</td>\n",
       "      <td>4340.724935</td>\n",
       "      <td>4564.699478</td>\n",
       "      <td>4764.400900</td>\n",
       "      <td>...</td>\n",
       "      <td>5485.715925</td>\n",
       "      <td>5336.435925</td>\n",
       "      <td>5089.974540</td>\n",
       "      <td>5249.595898</td>\n",
       "      <td>5254.565096</td>\n",
       "      <td>5141.406746</td>\n",
       "      <td>5042.431426</td>\n",
       "      <td>4983.869718</td>\n",
       "      <td>5116.785715</td>\n",
       "      <td>4964.693088</td>\n",
       "    </tr>\n",
       "    <tr>\n",
       "      <th>6</th>\n",
       "      <td>Argentina</td>\n",
       "      <td>77.341494</td>\n",
       "      <td>79.579541</td>\n",
       "      <td>81.846331</td>\n",
       "      <td>84.239573</td>\n",
       "      <td>86.902914</td>\n",
       "      <td>80.535084</td>\n",
       "      <td>85.254058</td>\n",
       "      <td>86.741981</td>\n",
       "      <td>89.802171</td>\n",
       "      <td>...</td>\n",
       "      <td>166.000124</td>\n",
       "      <td>168.746975</td>\n",
       "      <td>175.268259</td>\n",
       "      <td>182.764622</td>\n",
       "      <td>182.745499</td>\n",
       "      <td>186.021818</td>\n",
       "      <td>185.762130</td>\n",
       "      <td>182.807827</td>\n",
       "      <td>180.394930</td>\n",
       "      <td>174.877271</td>\n",
       "    </tr>\n",
       "    <tr>\n",
       "      <th>7</th>\n",
       "      <td>Brazil</td>\n",
       "      <td>51.522434</td>\n",
       "      <td>56.166435</td>\n",
       "      <td>58.011587</td>\n",
       "      <td>68.146806</td>\n",
       "      <td>74.257687</td>\n",
       "      <td>83.880674</td>\n",
       "      <td>92.171161</td>\n",
       "      <td>103.544446</td>\n",
       "      <td>123.609842</td>\n",
       "      <td>...</td>\n",
       "      <td>398.324213</td>\n",
       "      <td>423.761618</td>\n",
       "      <td>442.858031</td>\n",
       "      <td>482.871255</td>\n",
       "      <td>503.779772</td>\n",
       "      <td>487.040178</td>\n",
       "      <td>450.367978</td>\n",
       "      <td>457.229289</td>\n",
       "      <td>442.250684</td>\n",
       "      <td>441.299916</td>\n",
       "    </tr>\n",
       "  </tbody>\n",
       "</table>\n",
       "<p>5 rows × 56 columns</p>\n",
       "</div>"
      ],
      "text/plain": [
       "  country_name         1965         1966         1967         1968  \\\n",
       "1       Canada   260.332557   271.698929   285.537480   308.284201   \n",
       "2       Mexico    62.134189    65.056561    66.648353    72.171786   \n",
       "3           US  3480.084706  3675.466374  3772.622833  3994.225972   \n",
       "6    Argentina    77.341494    79.579541    81.846331    84.239573   \n",
       "7       Brazil    51.522434    56.166435    58.011587    68.146806   \n",
       "\n",
       "          1969         1970         1971         1972         1973  ...  \\\n",
       "1   320.447741   344.908460   351.586651   367.977437   386.717056  ...   \n",
       "2    79.107628    84.173086    89.462540    99.668266   107.674113  ...   \n",
       "3  4170.119294  4298.208775  4340.724935  4564.699478  4764.400900  ...   \n",
       "6    86.902914    80.535084    85.254058    86.741981    89.802171  ...   \n",
       "7    74.257687    83.880674    92.171161   103.544446   123.609842  ...   \n",
       "\n",
       "          2010         2011         2012         2013         2014  \\\n",
       "1   530.094931   541.020754   526.312965   544.096067   553.458312   \n",
       "2   442.611064   465.846905   473.972290   472.839136   459.630951   \n",
       "3  5485.715925  5336.435925  5089.974540  5249.595898  5254.565096   \n",
       "6   166.000124   168.746975   175.268259   182.764622   182.745499   \n",
       "7   398.324213   423.761618   442.858031   482.871255   503.779772   \n",
       "\n",
       "          2015         2016         2017         2018         2019  \n",
       "1   546.233373   537.777358   549.107572   565.635679   556.188552  \n",
       "2   463.121335   468.791476   476.945856   466.575628   454.972919  \n",
       "3  5141.406746  5042.431426  4983.869718  5116.785715  4964.693088  \n",
       "6   186.021818   185.762130   182.807827   180.394930   174.877271  \n",
       "7   487.040178   450.367978   457.229289   442.250684   441.299916  \n",
       "\n",
       "[5 rows x 56 columns]"
      ]
     },
     "execution_count": 14,
     "metadata": {},
     "output_type": "execute_result"
    }
   ],
   "source": [
    "co2_emissions.head()"
   ]
  },
  {
   "cell_type": "code",
   "execution_count": 15,
   "metadata": {
    "cell_id": "00017-76d57272-3116-4c04-8900-ffc0e33db5a5",
    "deepnote_cell_type": "code",
    "deepnote_to_be_reexecuted": false,
    "execution_millis": 656,
    "execution_start": 1623847082297,
    "source_hash": "4b03c3c4",
    "tags": []
   },
   "outputs": [
    {
     "data": {
      "text/plain": [
       "<matplotlib.axes._subplots.AxesSubplot at 0x19d6b94ffc8>"
      ]
     },
     "execution_count": 15,
     "metadata": {},
     "output_type": "execute_result"
    },
    {
     "data": {
      "image/png": "[encoded data removed]",
      "text/plain": [
       "<Figure size 432x288 with 1 Axes>"
      ]
     },
     "metadata": {
      "needs_background": "light"
     },
     "output_type": "display_data"
    }
   ],
   "source": [
    "# Visualize 10 most highest co2 emission countries\n",
    "co2_emissions_10 = co2_emissions.nlargest(8, 2019).melt(id_vars=['country_name'], var_name='year', value_name='CO2 Emission')\n",
    "sns.lineplot(x='year', y='CO2 Emission', hue='country_name', data=co2_emissions_10)"
   ]
  },
  {
   "cell_type": "code",
   "execution_count": 16,
   "metadata": {
    "cell_id": "00018-446fe3a9-cd55-43f8-b72f-3b841396c68c",
    "deepnote_cell_type": "code",
    "deepnote_to_be_reexecuted": false,
    "execution_millis": 27,
    "execution_start": 1623847082983,
    "source_hash": "9304d9f5",
    "tags": []
   },
   "outputs": [],
   "source": [
    "co2_emissions_tr = co2_emissions.transpose() # transpose dataframe\n",
    "new_header = co2_emissions_tr.iloc[0] #grab the first row for the header\n",
    "co2_emissions_tr = co2_emissions_tr[1:] #take the data less the header row\n",
    "co2_emissions_tr.columns = new_header #set the header row as the df header\n",
    "\n",
    "# insert year column\n",
    "co2_emissions_tr.insert(loc = 0,\n",
    "                     column = 'year',\n",
    "                     value = co2_emissions_tr.index)\n",
    "\n",
    "co2_emissions_tr.reset_index(drop=True, inplace=True) # reset index\n",
    "co2_emissions_tr.rename_axis(None, axis=1, inplace=True) # remove index name"
   ]
  },
  {
   "cell_type": "code",
   "execution_count": 17,
   "metadata": {
    "cell_id": "00019-a4adca6f-e80c-4e88-85f9-06fc05e017f4",
    "deepnote_cell_type": "code",
    "deepnote_to_be_reexecuted": false,
    "execution_millis": 38,
    "execution_start": 1623847083020,
    "source_hash": "a17746ee",
    "tags": []
   },
   "outputs": [],
   "source": [
    "# converting type in selected column/s\n",
    "co2_emissions_tr['year'] = co2_emissions_tr['year'].astype(int)\n",
    "co2_emissions_tr[co2_emissions_tr.columns[1:len(co2_emissions_tr.columns)]] = co2_emissions_tr[co2_emissions_tr.columns[1:len(co2_emissions_tr.columns)]].astype(float)"
   ]
  },
  {
   "cell_type": "code",
   "execution_count": 18,
   "metadata": {
    "cell_id": "00020-50b4005a-51eb-4c18-99dd-a240826728d6",
    "deepnote_cell_type": "code",
    "deepnote_to_be_reexecuted": false,
    "execution_millis": 401,
    "execution_start": 1623847083068,
    "source_hash": "e66c36d2",
    "tags": []
   },
   "outputs": [
    {
     "data": {
      "text/html": [
       "<div>\n",
       "<style scoped>\n",
       "    .dataframe tbody tr th:only-of-type {\n",
       "        vertical-align: middle;\n",
       "    }\n",
       "\n",
       "    .dataframe tbody tr th {\n",
       "        vertical-align: top;\n",
       "    }\n",
       "\n",
       "    .dataframe thead th {\n",
       "        text-align: right;\n",
       "    }\n",
       "</style>\n",
       "<table border=\"1\" class=\"dataframe\">\n",
       "  <thead>\n",
       "    <tr style=\"text-align: right;\">\n",
       "      <th></th>\n",
       "      <th>year</th>\n",
       "      <th>Canada</th>\n",
       "      <th>Mexico</th>\n",
       "      <th>US</th>\n",
       "      <th>Argentina</th>\n",
       "      <th>Brazil</th>\n",
       "      <th>Chile</th>\n",
       "      <th>Colombia</th>\n",
       "      <th>Ecuador</th>\n",
       "      <th>Peru</th>\n",
       "      <th>...</th>\n",
       "      <th>Malaysia</th>\n",
       "      <th>New Zealand</th>\n",
       "      <th>Pakistan</th>\n",
       "      <th>Philippines</th>\n",
       "      <th>Singapore</th>\n",
       "      <th>South Korea</th>\n",
       "      <th>Sri Lanka</th>\n",
       "      <th>Taiwan</th>\n",
       "      <th>Thailand</th>\n",
       "      <th>Vietnam</th>\n",
       "    </tr>\n",
       "  </thead>\n",
       "  <tbody>\n",
       "    <tr>\n",
       "      <th>0</th>\n",
       "      <td>1965</td>\n",
       "      <td>260.332557</td>\n",
       "      <td>62.134189</td>\n",
       "      <td>3480.084706</td>\n",
       "      <td>77.341494</td>\n",
       "      <td>51.522434</td>\n",
       "      <td>16.704365</td>\n",
       "      <td>21.308531</td>\n",
       "      <td>2.068513</td>\n",
       "      <td>12.529142</td>\n",
       "      <td>...</td>\n",
       "      <td>7.016516</td>\n",
       "      <td>15.047212</td>\n",
       "      <td>19.505005</td>\n",
       "      <td>13.209440</td>\n",
       "      <td>13.092581</td>\n",
       "      <td>24.871266</td>\n",
       "      <td>1.455060</td>\n",
       "      <td>18.847770</td>\n",
       "      <td>7.366886</td>\n",
       "      <td>8.226465</td>\n",
       "    </tr>\n",
       "    <tr>\n",
       "      <th>1</th>\n",
       "      <td>1966</td>\n",
       "      <td>271.698929</td>\n",
       "      <td>65.056561</td>\n",
       "      <td>3675.466374</td>\n",
       "      <td>79.579541</td>\n",
       "      <td>56.166435</td>\n",
       "      <td>17.923391</td>\n",
       "      <td>23.052587</td>\n",
       "      <td>2.150559</td>\n",
       "      <td>15.395373</td>\n",
       "      <td>...</td>\n",
       "      <td>8.180897</td>\n",
       "      <td>15.795854</td>\n",
       "      <td>19.302632</td>\n",
       "      <td>14.388342</td>\n",
       "      <td>14.966980</td>\n",
       "      <td>29.610826</td>\n",
       "      <td>1.490169</td>\n",
       "      <td>20.038510</td>\n",
       "      <td>8.743907</td>\n",
       "      <td>13.943997</td>\n",
       "    </tr>\n",
       "    <tr>\n",
       "      <th>2</th>\n",
       "      <td>1967</td>\n",
       "      <td>285.537480</td>\n",
       "      <td>66.648353</td>\n",
       "      <td>3772.622833</td>\n",
       "      <td>81.846331</td>\n",
       "      <td>58.011587</td>\n",
       "      <td>18.252535</td>\n",
       "      <td>24.368449</td>\n",
       "      <td>2.312434</td>\n",
       "      <td>15.488571</td>\n",
       "      <td>...</td>\n",
       "      <td>8.290094</td>\n",
       "      <td>15.733801</td>\n",
       "      <td>21.051776</td>\n",
       "      <td>16.168303</td>\n",
       "      <td>18.022107</td>\n",
       "      <td>32.781891</td>\n",
       "      <td>1.526254</td>\n",
       "      <td>21.790885</td>\n",
       "      <td>9.900674</td>\n",
       "      <td>19.045888</td>\n",
       "    </tr>\n",
       "    <tr>\n",
       "      <th>3</th>\n",
       "      <td>1968</td>\n",
       "      <td>308.284201</td>\n",
       "      <td>72.171786</td>\n",
       "      <td>3994.225972</td>\n",
       "      <td>84.239573</td>\n",
       "      <td>68.146806</td>\n",
       "      <td>18.728529</td>\n",
       "      <td>25.214098</td>\n",
       "      <td>2.763361</td>\n",
       "      <td>15.669609</td>\n",
       "      <td>...</td>\n",
       "      <td>8.393498</td>\n",
       "      <td>15.670935</td>\n",
       "      <td>23.812020</td>\n",
       "      <td>18.378439</td>\n",
       "      <td>22.434620</td>\n",
       "      <td>36.303378</td>\n",
       "      <td>1.562765</td>\n",
       "      <td>23.868390</td>\n",
       "      <td>12.985647</td>\n",
       "      <td>19.795274</td>\n",
       "    </tr>\n",
       "    <tr>\n",
       "      <th>4</th>\n",
       "      <td>1969</td>\n",
       "      <td>320.447741</td>\n",
       "      <td>79.107628</td>\n",
       "      <td>4170.119294</td>\n",
       "      <td>86.902914</td>\n",
       "      <td>74.257687</td>\n",
       "      <td>19.850407</td>\n",
       "      <td>25.320421</td>\n",
       "      <td>2.931987</td>\n",
       "      <td>15.653769</td>\n",
       "      <td>...</td>\n",
       "      <td>8.666952</td>\n",
       "      <td>16.198284</td>\n",
       "      <td>23.219234</td>\n",
       "      <td>19.712486</td>\n",
       "      <td>22.039571</td>\n",
       "      <td>42.484118</td>\n",
       "      <td>1.598968</td>\n",
       "      <td>25.229664</td>\n",
       "      <td>14.063613</td>\n",
       "      <td>23.276365</td>\n",
       "    </tr>\n",
       "  </tbody>\n",
       "</table>\n",
       "<p>5 rows × 85 columns</p>\n",
       "</div>"
      ],
      "text/plain": [
       "   year      Canada     Mexico           US  Argentina     Brazil      Chile  \\\n",
       "0  1965  260.332557  62.134189  3480.084706  77.341494  51.522434  16.704365   \n",
       "1  1966  271.698929  65.056561  3675.466374  79.579541  56.166435  17.923391   \n",
       "2  1967  285.537480  66.648353  3772.622833  81.846331  58.011587  18.252535   \n",
       "3  1968  308.284201  72.171786  3994.225972  84.239573  68.146806  18.728529   \n",
       "4  1969  320.447741  79.107628  4170.119294  86.902914  74.257687  19.850407   \n",
       "\n",
       "    Colombia   Ecuador       Peru  ...  Malaysia  New Zealand   Pakistan  \\\n",
       "0  21.308531  2.068513  12.529142  ...  7.016516    15.047212  19.505005   \n",
       "1  23.052587  2.150559  15.395373  ...  8.180897    15.795854  19.302632   \n",
       "2  24.368449  2.312434  15.488571  ...  8.290094    15.733801  21.051776   \n",
       "3  25.214098  2.763361  15.669609  ...  8.393498    15.670935  23.812020   \n",
       "4  25.320421  2.931987  15.653769  ...  8.666952    16.198284  23.219234   \n",
       "\n",
       "   Philippines  Singapore  South Korea  Sri Lanka     Taiwan   Thailand  \\\n",
       "0    13.209440  13.092581    24.871266   1.455060  18.847770   7.366886   \n",
       "1    14.388342  14.966980    29.610826   1.490169  20.038510   8.743907   \n",
       "2    16.168303  18.022107    32.781891   1.526254  21.790885   9.900674   \n",
       "3    18.378439  22.434620    36.303378   1.562765  23.868390  12.985647   \n",
       "4    19.712486  22.039571    42.484118   1.598968  25.229664  14.063613   \n",
       "\n",
       "     Vietnam  \n",
       "0   8.226465  \n",
       "1  13.943997  \n",
       "2  19.045888  \n",
       "3  19.795274  \n",
       "4  23.276365  \n",
       "\n",
       "[5 rows x 85 columns]"
      ]
     },
     "execution_count": 18,
     "metadata": {},
     "output_type": "execute_result"
    }
   ],
   "source": [
    "co2_emissions_tr.head()"
   ]
  },
  {
   "cell_type": "code",
   "execution_count": null,
   "metadata": {
    "cell_id": "00021-a9352f64-4d1c-4620-9899-551cae8b45fa",
    "deepnote_cell_type": "code",
    "deepnote_to_be_reexecuted": false,
    "execution_millis": 15425081,
    "execution_start": 1623847083461,
    "source_hash": "b623e53d",
    "tags": []
   },
   "outputs": [],
   "source": []
  },
  {
   "cell_type": "markdown",
   "metadata": {
    "cell_id": "00022-3a818a08-71f3-47dd-96cd-5a81bd3b8cfd",
    "deepnote_cell_type": "text-cell-h3",
    "tags": []
   },
   "source": [
    "### Renewable Consumption"
   ]
  },
  {
   "cell_type": "code",
   "execution_count": 19,
   "metadata": {
    "cell_id": "00023-22639307-9bb7-42c0-83e0-bdd763bd0afa",
    "deepnote_cell_type": "code",
    "deepnote_to_be_reexecuted": false,
    "execution_millis": 256,
    "execution_start": 1623847083487,
    "source_hash": "1d6886b4",
    "tags": []
   },
   "outputs": [],
   "source": [
    "renew_consumption = pd.read_excel(raw_bp, 'Renewables Consumption - EJ', header=2)"
   ]
  },
  {
   "cell_type": "code",
   "execution_count": 20,
   "metadata": {
    "cell_id": "00024-d6eaf8dd-c013-48ba-885d-bcd05577df04",
    "deepnote_cell_type": "code",
    "deepnote_to_be_reexecuted": false,
    "execution_millis": 2,
    "execution_start": 1623847083756,
    "source_hash": "f505ecac",
    "tags": []
   },
   "outputs": [],
   "source": [
    "renew_consumption = renew_consumption.dropna(how='all')\n",
    "renew_consumption = renew_consumption.iloc[:-11,:-5]\n",
    "searchfor = [\"Total\",\"Other\",\"Excludes\"]\n",
    "renew_consumption.rename(columns={'Exajoules (input-equivalent)': 'country_name'}, inplace=True)\n",
    "renew_consumption = renew_consumption[~renew_consumption['country_name'].str.contains('|'.join(searchfor))]"
   ]
  },
  {
   "cell_type": "code",
   "execution_count": 21,
   "metadata": {
    "cell_id": "00025-c5b8dc7d-5ad6-4726-95d3-a16cac53e061",
    "deepnote_cell_type": "code",
    "deepnote_to_be_reexecuted": false,
    "execution_millis": 647,
    "execution_start": 1623847083783,
    "source_hash": "49359b95",
    "tags": []
   },
   "outputs": [
    {
     "data": {
      "text/plain": [
       "<matplotlib.axes._subplots.AxesSubplot at 0x19d6c353988>"
      ]
     },
     "execution_count": 21,
     "metadata": {},
     "output_type": "execute_result"
    },
    {
     "data": {
      "image/png": "[encoded data removed]",
      "text/plain": [
       "<Figure size 432x288 with 1 Axes>"
      ]
     },
     "metadata": {
      "needs_background": "light"
     },
     "output_type": "display_data"
    }
   ],
   "source": [
    "renew_consumption_10 = renew_consumption.nlargest(8, 2019).melt(id_vars=['country_name'], var_name='year', value_name='Renewable Consumption')\n",
    "sns.lineplot(x='year', y='Renewable Consumption', hue='country_name', data=renew_consumption_10)"
   ]
  },
  {
   "cell_type": "code",
   "execution_count": 22,
   "metadata": {
    "cell_id": "00026-40878996-607c-4323-aa78-c0b40a5571e3",
    "deepnote_cell_type": "code",
    "deepnote_to_be_reexecuted": false,
    "execution_millis": 3,
    "execution_start": 1623847084446,
    "source_hash": "54d55e0a",
    "tags": []
   },
   "outputs": [],
   "source": [
    "renew_consumption_tr = renew_consumption.transpose() # transpose dataframe\n",
    "new_header = renew_consumption_tr.iloc[0] #grab the first row for the header\n",
    "renew_consumption_tr = renew_consumption_tr[1:] #take the data less the header row\n",
    "renew_consumption_tr.columns = new_header #set the header row as the df header\n",
    "# insert year column\n",
    "renew_consumption_tr.insert(loc = 0,\n",
    "                     column = 'year',\n",
    "                     value = renew_consumption_tr.index)\n",
    "renew_consumption_tr.reset_index(drop=True, inplace=True) # reset index\n",
    "renew_consumption_tr.rename_axis(None, axis=1, inplace=True) # remove index name"
   ]
  },
  {
   "cell_type": "code",
   "execution_count": 23,
   "metadata": {
    "cell_id": "00027-152739e6-1e2a-4004-8fb3-69bd83b7fe64",
    "deepnote_cell_type": "code",
    "deepnote_to_be_reexecuted": false,
    "execution_millis": 54,
    "execution_start": 1623847084463,
    "source_hash": "f9e589e6",
    "tags": []
   },
   "outputs": [],
   "source": [
    "# converting type in selected column/s\n",
    "renew_consumption_tr['year'] = renew_consumption_tr['year'].astype(int)\n",
    "renew_consumption_tr[renew_consumption_tr.columns[1:len(renew_consumption_tr.columns)]] = renew_consumption_tr[renew_consumption_tr.columns[1:len(renew_consumption_tr.columns)]].astype(float)"
   ]
  },
  {
   "cell_type": "code",
   "execution_count": 24,
   "metadata": {
    "cell_id": "00028-2b9befd6-1d4a-491d-b404-c9e028ff7362",
    "deepnote_cell_type": "code",
    "deepnote_to_be_reexecuted": false,
    "execution_millis": 364,
    "execution_start": 1623847084530,
    "source_hash": "e45553fc",
    "tags": []
   },
   "outputs": [
    {
     "data": {
      "text/html": [
       "<div>\n",
       "<style scoped>\n",
       "    .dataframe tbody tr th:only-of-type {\n",
       "        vertical-align: middle;\n",
       "    }\n",
       "\n",
       "    .dataframe tbody tr th {\n",
       "        vertical-align: top;\n",
       "    }\n",
       "\n",
       "    .dataframe thead th {\n",
       "        text-align: right;\n",
       "    }\n",
       "</style>\n",
       "<table border=\"1\" class=\"dataframe\">\n",
       "  <thead>\n",
       "    <tr style=\"text-align: right;\">\n",
       "      <th></th>\n",
       "      <th>year</th>\n",
       "      <th>Canada</th>\n",
       "      <th>Mexico</th>\n",
       "      <th>US</th>\n",
       "      <th>Argentina</th>\n",
       "      <th>Brazil</th>\n",
       "      <th>Chile</th>\n",
       "      <th>Colombia</th>\n",
       "      <th>Ecuador</th>\n",
       "      <th>Peru</th>\n",
       "      <th>...</th>\n",
       "      <th>Malaysia</th>\n",
       "      <th>New Zealand</th>\n",
       "      <th>Pakistan</th>\n",
       "      <th>Philippines</th>\n",
       "      <th>Singapore</th>\n",
       "      <th>South Korea</th>\n",
       "      <th>Sri Lanka</th>\n",
       "      <th>Taiwan</th>\n",
       "      <th>Thailand</th>\n",
       "      <th>Vietnam</th>\n",
       "    </tr>\n",
       "  </thead>\n",
       "  <tbody>\n",
       "    <tr>\n",
       "      <th>0</th>\n",
       "      <td>1965</td>\n",
       "      <td>0.0</td>\n",
       "      <td>0.0</td>\n",
       "      <td>0.133322</td>\n",
       "      <td>0.0</td>\n",
       "      <td>0.0</td>\n",
       "      <td>0.0</td>\n",
       "      <td>0.0</td>\n",
       "      <td>0.0</td>\n",
       "      <td>0.0</td>\n",
       "      <td>...</td>\n",
       "      <td>0.0</td>\n",
       "      <td>0.01348</td>\n",
       "      <td>0.0</td>\n",
       "      <td>0.0</td>\n",
       "      <td>0.0</td>\n",
       "      <td>0.0</td>\n",
       "      <td>0.0</td>\n",
       "      <td>0.0</td>\n",
       "      <td>0.0</td>\n",
       "      <td>0.0</td>\n",
       "    </tr>\n",
       "    <tr>\n",
       "      <th>1</th>\n",
       "      <td>1966</td>\n",
       "      <td>0.0</td>\n",
       "      <td>0.0</td>\n",
       "      <td>0.140620</td>\n",
       "      <td>0.0</td>\n",
       "      <td>0.0</td>\n",
       "      <td>0.0</td>\n",
       "      <td>0.0</td>\n",
       "      <td>0.0</td>\n",
       "      <td>0.0</td>\n",
       "      <td>...</td>\n",
       "      <td>0.0</td>\n",
       "      <td>0.01359</td>\n",
       "      <td>0.0</td>\n",
       "      <td>0.0</td>\n",
       "      <td>0.0</td>\n",
       "      <td>0.0</td>\n",
       "      <td>0.0</td>\n",
       "      <td>0.0</td>\n",
       "      <td>0.0</td>\n",
       "      <td>0.0</td>\n",
       "    </tr>\n",
       "    <tr>\n",
       "      <th>2</th>\n",
       "      <td>1967</td>\n",
       "      <td>0.0</td>\n",
       "      <td>0.0</td>\n",
       "      <td>0.140736</td>\n",
       "      <td>0.0</td>\n",
       "      <td>0.0</td>\n",
       "      <td>0.0</td>\n",
       "      <td>0.0</td>\n",
       "      <td>0.0</td>\n",
       "      <td>0.0</td>\n",
       "      <td>...</td>\n",
       "      <td>0.0</td>\n",
       "      <td>0.01134</td>\n",
       "      <td>0.0</td>\n",
       "      <td>0.0</td>\n",
       "      <td>0.0</td>\n",
       "      <td>0.0</td>\n",
       "      <td>0.0</td>\n",
       "      <td>0.0</td>\n",
       "      <td>0.0</td>\n",
       "      <td>0.0</td>\n",
       "    </tr>\n",
       "    <tr>\n",
       "      <th>3</th>\n",
       "      <td>1968</td>\n",
       "      <td>0.0</td>\n",
       "      <td>0.0</td>\n",
       "      <td>0.155460</td>\n",
       "      <td>0.0</td>\n",
       "      <td>0.0</td>\n",
       "      <td>0.0</td>\n",
       "      <td>0.0</td>\n",
       "      <td>0.0</td>\n",
       "      <td>0.0</td>\n",
       "      <td>...</td>\n",
       "      <td>0.0</td>\n",
       "      <td>0.01295</td>\n",
       "      <td>0.0</td>\n",
       "      <td>0.0</td>\n",
       "      <td>0.0</td>\n",
       "      <td>0.0</td>\n",
       "      <td>0.0</td>\n",
       "      <td>0.0</td>\n",
       "      <td>0.0</td>\n",
       "      <td>0.0</td>\n",
       "    </tr>\n",
       "    <tr>\n",
       "      <th>4</th>\n",
       "      <td>1969</td>\n",
       "      <td>0.0</td>\n",
       "      <td>0.0</td>\n",
       "      <td>0.162271</td>\n",
       "      <td>0.0</td>\n",
       "      <td>0.0</td>\n",
       "      <td>0.0</td>\n",
       "      <td>0.0</td>\n",
       "      <td>0.0</td>\n",
       "      <td>0.0</td>\n",
       "      <td>...</td>\n",
       "      <td>0.0</td>\n",
       "      <td>0.01327</td>\n",
       "      <td>0.0</td>\n",
       "      <td>0.0</td>\n",
       "      <td>0.0</td>\n",
       "      <td>0.0</td>\n",
       "      <td>0.0</td>\n",
       "      <td>0.0</td>\n",
       "      <td>0.0</td>\n",
       "      <td>0.0</td>\n",
       "    </tr>\n",
       "  </tbody>\n",
       "</table>\n",
       "<p>5 rows × 85 columns</p>\n",
       "</div>"
      ],
      "text/plain": [
       "   year  Canada  Mexico        US  Argentina  Brazil  Chile  Colombia  \\\n",
       "0  1965     0.0     0.0  0.133322        0.0     0.0    0.0       0.0   \n",
       "1  1966     0.0     0.0  0.140620        0.0     0.0    0.0       0.0   \n",
       "2  1967     0.0     0.0  0.140736        0.0     0.0    0.0       0.0   \n",
       "3  1968     0.0     0.0  0.155460        0.0     0.0    0.0       0.0   \n",
       "4  1969     0.0     0.0  0.162271        0.0     0.0    0.0       0.0   \n",
       "\n",
       "   Ecuador  Peru  ...  Malaysia  New Zealand  Pakistan  Philippines  \\\n",
       "0      0.0   0.0  ...       0.0      0.01348       0.0          0.0   \n",
       "1      0.0   0.0  ...       0.0      0.01359       0.0          0.0   \n",
       "2      0.0   0.0  ...       0.0      0.01134       0.0          0.0   \n",
       "3      0.0   0.0  ...       0.0      0.01295       0.0          0.0   \n",
       "4      0.0   0.0  ...       0.0      0.01327       0.0          0.0   \n",
       "\n",
       "   Singapore  South Korea  Sri Lanka  Taiwan  Thailand  Vietnam  \n",
       "0        0.0          0.0        0.0     0.0       0.0      0.0  \n",
       "1        0.0          0.0        0.0     0.0       0.0      0.0  \n",
       "2        0.0          0.0        0.0     0.0       0.0      0.0  \n",
       "3        0.0          0.0        0.0     0.0       0.0      0.0  \n",
       "4        0.0          0.0        0.0     0.0       0.0      0.0  \n",
       "\n",
       "[5 rows x 85 columns]"
      ]
     },
     "execution_count": 24,
     "metadata": {},
     "output_type": "execute_result"
    }
   ],
   "source": [
    "renew_consumption_tr.head()"
   ]
  },
  {
   "cell_type": "markdown",
   "metadata": {
    "cell_id": "00031-7f72c6f5-30c6-4920-a49e-15b62650a50a",
    "deepnote_cell_type": "text-cell-h3",
    "tags": []
   },
   "source": [
    "### Country Data"
   ]
  },
  {
   "cell_type": "code",
   "execution_count": 25,
   "metadata": {
    "cell_id": "00032-6d9fc125-4e82-4a28-9e1e-ed09b3b38d5e",
    "deepnote_cell_type": "code",
    "deepnote_to_be_reexecuted": false,
    "execution_millis": 19,
    "execution_start": 1623847084890,
    "source_hash": "54b7e4a5",
    "tags": []
   },
   "outputs": [],
   "source": [
    "# Create year dataframe\n",
    "df = pd.DataFrame(data = np.arange(1965,2020,1),columns=['year'])"
   ]
  },
  {
   "cell_type": "markdown",
   "metadata": {
    "cell_id": "00033-1a0565ca-1fd4-43a2-91e8-b1ea72cc054e",
    "deepnote_cell_type": "text-cell-p",
    "tags": []
   },
   "source": [
    "Create dataframe for single country"
   ]
  },
  {
   "cell_type": "code",
   "execution_count": 26,
   "metadata": {
    "cell_id": "00033-71222df1-0d56-4f63-b1dc-626c04fc0f26",
    "deepnote_cell_type": "code",
    "deepnote_to_be_reexecuted": false,
    "execution_millis": 2,
    "execution_start": 1623847768796,
    "source_hash": "6a0a522b",
    "tags": []
   },
   "outputs": [],
   "source": [
    "# Function to create country dataframe\n",
    "def country_data(country):\n",
    "    df['energy_consumption'] = df['year'].map(energy_consumption_tr.set_index('year')[country])\n",
    "    df['co2_emissions'] = df['year'].map(co2_emissions_tr.set_index('year')[country])\n",
    "    df['renew_consumption'] = df['year'].map(renew_consumption_tr.set_index('year')[country])\n",
    "    return df"
   ]
  },
  {
   "cell_type": "code",
   "execution_count": 27,
   "metadata": {
    "cell_id": "00034-9dedf27a-4b7a-432f-8ceb-8458b26fd2cd",
    "deepnote_cell_type": "code",
    "deepnote_to_be_reexecuted": false,
    "execution_millis": 14,
    "execution_start": 1623847772024,
    "source_hash": "54db4f95",
    "tags": []
   },
   "outputs": [],
   "source": [
    "# US dataframe, can be change into any other countries.\n",
    "US_data = country_data('US')"
   ]
  },
  {
   "cell_type": "code",
   "execution_count": 28,
   "metadata": {
    "cell_id": "00035-3963107c-07cb-45d3-bcd0-1c93870c8628",
    "deepnote_cell_type": "code",
    "deepnote_to_be_reexecuted": false,
    "execution_millis": 10,
    "execution_start": 1623847774449,
    "source_hash": "cdf660df",
    "tags": []
   },
   "outputs": [
    {
     "data": {
      "text/html": [
       "<div>\n",
       "<style scoped>\n",
       "    .dataframe tbody tr th:only-of-type {\n",
       "        vertical-align: middle;\n",
       "    }\n",
       "\n",
       "    .dataframe tbody tr th {\n",
       "        vertical-align: top;\n",
       "    }\n",
       "\n",
       "    .dataframe thead th {\n",
       "        text-align: right;\n",
       "    }\n",
       "</style>\n",
       "<table border=\"1\" class=\"dataframe\">\n",
       "  <thead>\n",
       "    <tr style=\"text-align: right;\">\n",
       "      <th></th>\n",
       "      <th>year</th>\n",
       "      <th>energy_consumption</th>\n",
       "      <th>co2_emissions</th>\n",
       "      <th>renew_consumption</th>\n",
       "    </tr>\n",
       "  </thead>\n",
       "  <tbody>\n",
       "    <tr>\n",
       "      <th>0</th>\n",
       "      <td>1965</td>\n",
       "      <td>52.433795</td>\n",
       "      <td>3480.084706</td>\n",
       "      <td>0.133322</td>\n",
       "    </tr>\n",
       "    <tr>\n",
       "      <th>1</th>\n",
       "      <td>1966</td>\n",
       "      <td>55.383038</td>\n",
       "      <td>3675.466374</td>\n",
       "      <td>0.140620</td>\n",
       "    </tr>\n",
       "    <tr>\n",
       "      <th>2</th>\n",
       "      <td>1967</td>\n",
       "      <td>57.311776</td>\n",
       "      <td>3772.622833</td>\n",
       "      <td>0.140736</td>\n",
       "    </tr>\n",
       "    <tr>\n",
       "      <th>3</th>\n",
       "      <td>1968</td>\n",
       "      <td>60.799094</td>\n",
       "      <td>3994.225972</td>\n",
       "      <td>0.155460</td>\n",
       "    </tr>\n",
       "    <tr>\n",
       "      <th>4</th>\n",
       "      <td>1969</td>\n",
       "      <td>64.049612</td>\n",
       "      <td>4170.119294</td>\n",
       "      <td>0.162271</td>\n",
       "    </tr>\n",
       "  </tbody>\n",
       "</table>\n",
       "</div>"
      ],
      "text/plain": [
       "   year  energy_consumption  co2_emissions  renew_consumption\n",
       "0  1965           52.433795    3480.084706           0.133322\n",
       "1  1966           55.383038    3675.466374           0.140620\n",
       "2  1967           57.311776    3772.622833           0.140736\n",
       "3  1968           60.799094    3994.225972           0.155460\n",
       "4  1969           64.049612    4170.119294           0.162271"
      ]
     },
     "execution_count": 28,
     "metadata": {},
     "output_type": "execute_result"
    }
   ],
   "source": [
    "# Visualize US data\n",
    "US_data.head()"
   ]
  },
  {
   "cell_type": "code",
   "execution_count": 29,
   "metadata": {
    "cell_id": "00038-86a3da50-825f-4f5e-8bb6-c5df0cb29f09",
    "deepnote_cell_type": "code",
    "deepnote_to_be_reexecuted": false,
    "execution_millis": 1,
    "execution_start": 1623847779966,
    "source_hash": "a0c637da",
    "tags": []
   },
   "outputs": [],
   "source": [
    "# scaling the values\n",
    "from sklearn.preprocessing import MinMaxScaler\n",
    "sclr = MinMaxScaler()\n",
    "US_data[['energy_consumption', 'co2_emissions', 'renew_consumption']] = pd.DataFrame(sclr.fit_transform(US_data[['energy_consumption', 'co2_emissions', 'renew_consumption']].values), columns=['energy_consumption', 'co2_emissions', 'renew_consumption'], index=US_data.index)"
   ]
  },
  {
   "cell_type": "code",
   "execution_count": 30,
   "metadata": {
    "cell_id": "00037-61dcb909-c0b7-4a9d-a633-d60f774b5802",
    "deepnote_cell_type": "code",
    "deepnote_to_be_reexecuted": false,
    "execution_millis": 0,
    "execution_start": 1623847788903,
    "source_hash": "912465e1",
    "tags": []
   },
   "outputs": [],
   "source": [
    "US_data = US_data.set_index('year')"
   ]
  },
  {
   "cell_type": "code",
   "execution_count": 31,
   "metadata": {
    "cell_id": "00039-6d327dce-14fa-4fc1-ac0c-592fc1a57baf",
    "deepnote_cell_type": "code",
    "deepnote_to_be_reexecuted": false,
    "execution_millis": 6,
    "execution_start": 1623847792625,
    "source_hash": "d07b81bd",
    "tags": []
   },
   "outputs": [
    {
     "name": "stdout",
     "output_type": "stream",
     "text": [
      "energy_consumption    0.947309\n",
      "co2_emissions         1.000000\n",
      "renew_consumption     0.346190\n",
      "Name: co2_emissions, dtype: float64\n"
     ]
    }
   ],
   "source": [
    "print(US_data.corr()['co2_emissions'])"
   ]
  },
  {
   "cell_type": "code",
   "execution_count": 32,
   "metadata": {
    "cell_id": "00040-c46e9ad9-4858-43c6-9f59-f201de3755fc",
    "deepnote_cell_type": "code",
    "deepnote_to_be_reexecuted": false,
    "execution_millis": 419,
    "execution_start": 1623847797425,
    "source_hash": "1102ae1",
    "tags": []
   },
   "outputs": [
    {
     "data": {
      "text/plain": [
       "Text(0.5, 1, 'Correlation Matrix Between All Feature')"
      ]
     },
     "execution_count": 32,
     "metadata": {},
     "output_type": "execute_result"
    },
    {
     "data": {
      "image/png": "[encoded data removed]",
      "text/plain": [
       "<Figure size 432x288 with 2 Axes>"
      ]
     },
     "metadata": {
      "needs_background": "light"
     },
     "output_type": "display_data"
    }
   ],
   "source": [
    "sns.heatmap(US_data.corr(), annot = True)\n",
    "plt.title('Correlation Matrix Between All Feature')"
   ]
  },
  {
   "cell_type": "code",
   "execution_count": 33,
   "metadata": {
    "cell_id": "00041-55d3dc26-4bd6-463a-80d1-b7c1ddd5c263",
    "deepnote_cell_type": "code",
    "deepnote_to_be_reexecuted": false,
    "execution_millis": 206,
    "execution_start": 1623847806130,
    "source_hash": "ea13b65c",
    "tags": []
   },
   "outputs": [
    {
     "data": {
      "text/plain": [
       "<matplotlib.axes._subplots.AxesSubplot at 0x19d6c4ca608>"
      ]
     },
     "execution_count": 33,
     "metadata": {},
     "output_type": "execute_result"
    },
    {
     "data": {
      "image/png": "[encoded data removed]",
      "text/plain": [
       "<Figure size 432x288 with 1 Axes>"
      ]
     },
     "metadata": {
      "needs_background": "light"
     },
     "output_type": "display_data"
    }
   ],
   "source": [
    "sns.regplot(y='co2_emissions', x='energy_consumption', data=US_data, fit_reg = False, scatter_kws={\"alpha\": 0.2})"
   ]
  },
  {
   "cell_type": "markdown",
   "metadata": {
    "cell_id": "00042-124b941d-05c6-4e4c-ab65-c8a3f0639d02",
    "deepnote_cell_type": "text-cell-p",
    "tags": []
   },
   "source": [
    "Relationship between co2_emissions and energy_consumtion is positively linear."
   ]
  },
  {
   "cell_type": "code",
   "execution_count": 34,
   "metadata": {
    "cell_id": "00043-d487a4c8-f4db-4f04-beb8-993bef60bf39",
    "deepnote_cell_type": "code",
    "deepnote_to_be_reexecuted": false,
    "execution_millis": 298,
    "execution_start": 1623847086061,
    "source_hash": "fdbbae76",
    "tags": []
   },
   "outputs": [
    {
     "data": {
      "text/plain": [
       "<matplotlib.axes._subplots.AxesSubplot at 0x19d6c4dde88>"
      ]
     },
     "execution_count": 34,
     "metadata": {},
     "output_type": "execute_result"
    },
    {
     "data": {
      "image/png": "[encoded data removed]",
      "text/plain": [
       "<Figure size 432x288 with 1 Axes>"
      ]
     },
     "metadata": {
      "needs_background": "light"
     },
     "output_type": "display_data"
    }
   ],
   "source": [
    "sns.regplot(y='co2_emissions', x='renew_consumption', data=US_data, fit_reg = False, scatter_kws={\"alpha\": 0.5})"
   ]
  },
  {
   "cell_type": "code",
   "execution_count": 35,
   "metadata": {
    "cell_id": "00045-21189bac-67c4-490d-bef7-ce00353eae07",
    "deepnote_cell_type": "code",
    "deepnote_to_be_reexecuted": false,
    "execution_millis": 249,
    "execution_start": 1623847086391,
    "source_hash": "75456c15",
    "tags": []
   },
   "outputs": [
    {
     "data": {
      "text/plain": [
       "<matplotlib.axes._subplots.AxesSubplot at 0x19d6c5ac048>"
      ]
     },
     "execution_count": 35,
     "metadata": {},
     "output_type": "execute_result"
    },
    {
     "data": {
      "image/png": "[encoded data removed]",
      "text/plain": [
       "<Figure size 432x288 with 1 Axes>"
      ]
     },
     "metadata": {
      "needs_background": "light"
     },
     "output_type": "display_data"
    }
   ],
   "source": [
    "sns.lineplot(data=US_data['energy_consumption'])"
   ]
  },
  {
   "cell_type": "code",
   "execution_count": 36,
   "metadata": {
    "cell_id": "00042-d1ebbd80-0825-41a3-b3d8-e9667b5a6265",
    "deepnote_cell_type": "code",
    "deepnote_to_be_reexecuted": false,
    "execution_millis": 172,
    "execution_start": 1623847086774,
    "source_hash": "46994bbb",
    "tags": []
   },
   "outputs": [
    {
     "data": {
      "text/plain": [
       "<matplotlib.axes._subplots.AxesSubplot at 0x19d6c5fdf48>"
      ]
     },
     "execution_count": 36,
     "metadata": {},
     "output_type": "execute_result"
    },
    {
     "data": {
      "image/png": "[encoded data removed]",
      "text/plain": [
       "<Figure size 432x288 with 1 Axes>"
      ]
     },
     "metadata": {
      "needs_background": "light"
     },
     "output_type": "display_data"
    }
   ],
   "source": [
    "sns.lineplot(data=US_data['renew_consumption'])"
   ]
  },
  {
   "cell_type": "code",
   "execution_count": 37,
   "metadata": {
    "cell_id": "00044-59a327ad-5087-4782-8442-73a32c14ab9c",
    "deepnote_cell_type": "code",
    "deepnote_to_be_reexecuted": false,
    "execution_millis": 398,
    "execution_start": 1623847086938,
    "source_hash": "e2dc59e5",
    "tags": []
   },
   "outputs": [
    {
     "data": {
      "text/plain": [
       "<matplotlib.axes._subplots.AxesSubplot at 0x19d6c6734c8>"
      ]
     },
     "execution_count": 37,
     "metadata": {},
     "output_type": "execute_result"
    },
    {
     "data": {
      "image/png": "[encoded data removed]",
      "text/plain": [
       "<Figure size 432x288 with 1 Axes>"
      ]
     },
     "metadata": {
      "needs_background": "light"
     },
     "output_type": "display_data"
    }
   ],
   "source": [
    "sns.lineplot(data=US_data['co2_emissions'])"
   ]
  },
  {
   "cell_type": "markdown",
   "metadata": {
    "cell_id": "00046-1b0ed388-2421-4594-b4bf-4b418a56c06a",
    "deepnote_cell_type": "text-cell-p",
    "tags": []
   },
   "source": [
    "Pearson’s correlation is the test statistics that measures the statistical relationship, or association, between two continuous variables. 0.3 shows that this is a weak uphill (positive) linear relationship."
   ]
  },
  {
   "cell_type": "code",
   "execution_count": 38,
   "metadata": {
    "cell_id": "00045-b939eb37-bfa9-4bb8-81b7-3470bcb74f9c",
    "deepnote_cell_type": "code",
    "deepnote_to_be_reexecuted": false,
    "execution_millis": 6,
    "execution_start": 1623847817030,
    "source_hash": "64fc46e9",
    "tags": []
   },
   "outputs": [
    {
     "name": "stdout",
     "output_type": "stream",
     "text": [
      "Pearsons correlation: 0.346\n"
     ]
    }
   ],
   "source": [
    "# calculate Pearson's correlation\n",
    "from scipy.stats import pearsonr\n",
    "\n",
    "corr, _ = pearsonr(US_data['co2_emissions'], US_data['renew_consumption'])\n",
    "print('Pearsons correlation: %.3f' % corr)\n"
   ]
  },
  {
   "cell_type": "code",
   "execution_count": 39,
   "metadata": {
    "cell_id": "00047-1ad5d19c-6ea4-4276-8117-828b1ab671ae",
    "deepnote_cell_type": "code",
    "deepnote_to_be_reexecuted": false,
    "execution_millis": 11,
    "execution_start": 1623847087352,
    "source_hash": "107876f9",
    "tags": []
   },
   "outputs": [
    {
     "name": "stdout",
     "output_type": "stream",
     "text": [
      "Spearmans correlation: 0.790\n"
     ]
    }
   ],
   "source": [
    "# calculate spearman's correlation\n",
    "from scipy.stats import spearmanr\n",
    "\n",
    "corr, _ = spearmanr(US_data['co2_emissions'], US_data['renew_consumption'])\n",
    "print('Spearmans correlation: %.3f' % corr)"
   ]
  },
  {
   "cell_type": "markdown",
   "metadata": {
    "cell_id": "00054-dcc8bd27-3ec6-4fc2-bdcf-aea9eb2c1cc0",
    "deepnote_cell_type": "text-cell-h3",
    "tags": []
   },
   "source": [
    "### Linear regression using Statsmodels on Energy Data"
   ]
  },
  {
   "cell_type": "markdown",
   "metadata": {
    "cell_id": "00052-e92d6950-e165-4476-a949-ebfcd4acef3a",
    "deepnote_cell_type": "text-cell-p",
    "tags": []
   },
   "source": [
    "Statsmodels&nbsp;is “a Python module that provides classes and functions for the estimation of many different statistical models, as well as for conducting statistical tests, and statistical data exploration.” (from the documentation)"
   ]
  },
  {
   "cell_type": "code",
   "execution_count": 40,
   "metadata": {
    "cell_id": "00052-5ff43203-f1c7-4fa2-a947-53ffd8387fb1",
    "deepnote_cell_type": "code",
    "deepnote_to_be_reexecuted": false,
    "execution_millis": 32,
    "execution_start": 1623850288715,
    "source_hash": "8b4a0a7d",
    "tags": []
   },
   "outputs": [
    {
     "data": {
      "text/html": [
       "<div>\n",
       "<style scoped>\n",
       "    .dataframe tbody tr th:only-of-type {\n",
       "        vertical-align: middle;\n",
       "    }\n",
       "\n",
       "    .dataframe tbody tr th {\n",
       "        vertical-align: top;\n",
       "    }\n",
       "\n",
       "    .dataframe thead th {\n",
       "        text-align: right;\n",
       "    }\n",
       "</style>\n",
       "<table border=\"1\" class=\"dataframe\">\n",
       "  <thead>\n",
       "    <tr style=\"text-align: right;\">\n",
       "      <th></th>\n",
       "      <th>energy_consumption</th>\n",
       "      <th>co2_emissions</th>\n",
       "      <th>renew_consumption</th>\n",
       "    </tr>\n",
       "    <tr>\n",
       "      <th>year</th>\n",
       "      <th></th>\n",
       "      <th></th>\n",
       "      <th></th>\n",
       "    </tr>\n",
       "  </thead>\n",
       "  <tbody>\n",
       "    <tr>\n",
       "      <th>1965</th>\n",
       "      <td>0.000000</td>\n",
       "      <td>0.000000</td>\n",
       "      <td>0.000000</td>\n",
       "    </tr>\n",
       "    <tr>\n",
       "      <th>1966</th>\n",
       "      <td>0.066182</td>\n",
       "      <td>0.081271</td>\n",
       "      <td>0.001281</td>\n",
       "    </tr>\n",
       "    <tr>\n",
       "      <th>1967</th>\n",
       "      <td>0.109463</td>\n",
       "      <td>0.121685</td>\n",
       "      <td>0.001302</td>\n",
       "    </tr>\n",
       "    <tr>\n",
       "      <th>1968</th>\n",
       "      <td>0.187720</td>\n",
       "      <td>0.213863</td>\n",
       "      <td>0.003887</td>\n",
       "    </tr>\n",
       "    <tr>\n",
       "      <th>1969</th>\n",
       "      <td>0.260663</td>\n",
       "      <td>0.287028</td>\n",
       "      <td>0.005083</td>\n",
       "    </tr>\n",
       "  </tbody>\n",
       "</table>\n",
       "</div>"
      ],
      "text/plain": [
       "      energy_consumption  co2_emissions  renew_consumption\n",
       "year                                                      \n",
       "1965            0.000000       0.000000           0.000000\n",
       "1966            0.066182       0.081271           0.001281\n",
       "1967            0.109463       0.121685           0.001302\n",
       "1968            0.187720       0.213863           0.003887\n",
       "1969            0.260663       0.287028           0.005083"
      ]
     },
     "execution_count": 40,
     "metadata": {},
     "output_type": "execute_result"
    }
   ],
   "source": [
    "US_data.head()"
   ]
  },
  {
   "cell_type": "code",
   "execution_count": 41,
   "metadata": {
    "cell_id": "00052-c91879e2-6b5d-48bc-bdf5-61b045c7bf7c",
    "deepnote_cell_type": "code",
    "deepnote_to_be_reexecuted": false,
    "execution_millis": 7,
    "execution_start": 1623850919563,
    "source_hash": "d6c8ca31",
    "tags": []
   },
   "outputs": [
    {
     "data": {
      "text/html": [
       "<table class=\"simpletable\">\n",
       "<caption>OLS Regression Results</caption>\n",
       "<tr>\n",
       "  <th>Dep. Variable:</th>      <td>co2_emissions</td>  <th>  R-squared (uncentered):</th>      <td>   0.985</td>\n",
       "</tr>\n",
       "<tr>\n",
       "  <th>Model:</th>                   <td>OLS</td>       <th>  Adj. R-squared (uncentered):</th> <td>   0.985</td>\n",
       "</tr>\n",
       "<tr>\n",
       "  <th>Method:</th>             <td>Least Squares</td>  <th>  F-statistic:       </th>          <td>   3559.</td>\n",
       "</tr>\n",
       "<tr>\n",
       "  <th>Date:</th>             <td>Wed, 16 Jun 2021</td> <th>  Prob (F-statistic):</th>          <td>5.59e-51</td>\n",
       "</tr>\n",
       "<tr>\n",
       "  <th>Time:</th>                 <td>17:28:46</td>     <th>  Log-Likelihood:    </th>          <td>  60.041</td>\n",
       "</tr>\n",
       "<tr>\n",
       "  <th>No. Observations:</th>      <td>    55</td>      <th>  AIC:               </th>          <td>  -118.1</td>\n",
       "</tr>\n",
       "<tr>\n",
       "  <th>Df Residuals:</th>          <td>    54</td>      <th>  BIC:               </th>          <td>  -116.1</td>\n",
       "</tr>\n",
       "<tr>\n",
       "  <th>Df Model:</th>              <td>     1</td>      <th>                     </th>              <td> </td>   \n",
       "</tr>\n",
       "<tr>\n",
       "  <th>Covariance Type:</th>      <td>nonrobust</td>    <th>                     </th>              <td> </td>   \n",
       "</tr>\n",
       "</table>\n",
       "<table class=\"simpletable\">\n",
       "<tr>\n",
       "           <td></td>             <th>coef</th>     <th>std err</th>      <th>t</th>      <th>P>|t|</th>  <th>[0.025</th>    <th>0.975]</th>  \n",
       "</tr>\n",
       "<tr>\n",
       "  <th>energy_consumption</th> <td>    0.9285</td> <td>    0.016</td> <td>   59.661</td> <td> 0.000</td> <td>    0.897</td> <td>    0.960</td>\n",
       "</tr>\n",
       "</table>\n",
       "<table class=\"simpletable\">\n",
       "<tr>\n",
       "  <th>Omnibus:</th>       <td>29.176</td> <th>  Durbin-Watson:     </th> <td>   0.085</td>\n",
       "</tr>\n",
       "<tr>\n",
       "  <th>Prob(Omnibus):</th> <td> 0.000</td> <th>  Jarque-Bera (JB):  </th> <td>  48.796</td>\n",
       "</tr>\n",
       "<tr>\n",
       "  <th>Skew:</th>          <td>-1.856</td> <th>  Prob(JB):          </th> <td>2.54e-11</td>\n",
       "</tr>\n",
       "<tr>\n",
       "  <th>Kurtosis:</th>      <td> 5.741</td> <th>  Cond. No.          </th> <td>    1.00</td>\n",
       "</tr>\n",
       "</table><br/><br/>Warnings:<br/>[1] Standard Errors assume that the covariance matrix of the errors is correctly specified."
      ],
      "text/plain": [
       "<class 'statsmodels.iolib.summary.Summary'>\n",
       "\"\"\"\n",
       "                                 OLS Regression Results                                \n",
       "=======================================================================================\n",
       "Dep. Variable:          co2_emissions   R-squared (uncentered):                   0.985\n",
       "Model:                            OLS   Adj. R-squared (uncentered):              0.985\n",
       "Method:                 Least Squares   F-statistic:                              3559.\n",
       "Date:                Wed, 16 Jun 2021   Prob (F-statistic):                    5.59e-51\n",
       "Time:                        17:28:46   Log-Likelihood:                          60.041\n",
       "No. Observations:                  55   AIC:                                     -118.1\n",
       "Df Residuals:                      54   BIC:                                     -116.1\n",
       "Df Model:                           1                                                  \n",
       "Covariance Type:            nonrobust                                                  \n",
       "======================================================================================\n",
       "                         coef    std err          t      P>|t|      [0.025      0.975]\n",
       "--------------------------------------------------------------------------------------\n",
       "energy_consumption     0.9285      0.016     59.661      0.000       0.897       0.960\n",
       "==============================================================================\n",
       "Omnibus:                       29.176   Durbin-Watson:                   0.085\n",
       "Prob(Omnibus):                  0.000   Jarque-Bera (JB):               48.796\n",
       "Skew:                          -1.856   Prob(JB):                     2.54e-11\n",
       "Kurtosis:                       5.741   Cond. No.                         1.00\n",
       "==============================================================================\n",
       "\n",
       "Warnings:\n",
       "[1] Standard Errors assume that the covariance matrix of the errors is correctly specified.\n",
       "\"\"\""
      ]
     },
     "execution_count": 41,
     "metadata": {},
     "output_type": "execute_result"
    }
   ],
   "source": [
    "import statsmodels.api as sm # import statsmodels \n",
    "\n",
    "X = US_data[\"energy_consumption\"] #input variables (or independent variables)\n",
    "y = US_data[\"co2_emissions\"] #output/dependent variable\n",
    "#X = sm.add_constant(X) ## let's add an intercept (beta_0) to our model\n",
    "\n",
    "# Note the difference in argument order\n",
    "model = sm.OLS(y, X).fit() ## sm.OLS(output, input)\n",
    "predictions = model.predict(X)\n",
    "\n",
    "# Print out the statistics\n",
    "model.summary()"
   ]
  },
  {
   "cell_type": "markdown",
   "metadata": {
    "cell_id": "00054-333442db-0d5b-4067-a883-744dce610ace",
    "deepnote_cell_type": "text-cell-p",
    "tags": []
   },
   "source": [
    "The&nbsp;energy_consumption has statistically significant p-value; there is a 95% confidence intervals for the&nbsp;energy_consumption  (meaning we predict at a 95% percent confidence that the value of&nbsp;energy_consumption is between&nbsp;0.897 to 0.960)."
   ]
  },
  {
   "cell_type": "code",
   "execution_count": 42,
   "metadata": {
    "cell_id": "00054-90ef71c0-9c83-45bc-a456-af44f45d1141",
    "deepnote_cell_type": "code",
    "deepnote_to_be_reexecuted": false,
    "execution_millis": 22,
    "execution_start": 1623850886289,
    "source_hash": "3de606e9",
    "tags": []
   },
   "outputs": [
    {
     "data": {
      "text/html": [
       "<table class=\"simpletable\">\n",
       "<caption>OLS Regression Results</caption>\n",
       "<tr>\n",
       "  <th>Dep. Variable:</th>      <td>co2_emissions</td>  <th>  R-squared (uncentered):</th>      <td>   0.999</td> \n",
       "</tr>\n",
       "<tr>\n",
       "  <th>Model:</th>                   <td>OLS</td>       <th>  Adj. R-squared (uncentered):</th> <td>   0.999</td> \n",
       "</tr>\n",
       "<tr>\n",
       "  <th>Method:</th>             <td>Least Squares</td>  <th>  F-statistic:       </th>          <td>2.174e+04</td>\n",
       "</tr>\n",
       "<tr>\n",
       "  <th>Date:</th>             <td>Wed, 16 Jun 2021</td> <th>  Prob (F-statistic):</th>          <td>5.85e-78</td> \n",
       "</tr>\n",
       "<tr>\n",
       "  <th>Time:</th>                 <td>17:28:46</td>     <th>  Log-Likelihood:    </th>          <td>  128.99</td> \n",
       "</tr>\n",
       "<tr>\n",
       "  <th>No. Observations:</th>      <td>    55</td>      <th>  AIC:               </th>          <td>  -254.0</td> \n",
       "</tr>\n",
       "<tr>\n",
       "  <th>Df Residuals:</th>          <td>    53</td>      <th>  BIC:               </th>          <td>  -250.0</td> \n",
       "</tr>\n",
       "<tr>\n",
       "  <th>Df Model:</th>              <td>     2</td>      <th>                     </th>              <td> </td>    \n",
       "</tr>\n",
       "<tr>\n",
       "  <th>Covariance Type:</th>      <td>nonrobust</td>    <th>                     </th>              <td> </td>    \n",
       "</tr>\n",
       "</table>\n",
       "<table class=\"simpletable\">\n",
       "<tr>\n",
       "           <td></td>             <th>coef</th>     <th>std err</th>      <th>t</th>      <th>P>|t|</th>  <th>[0.025</th>    <th>0.975]</th>  \n",
       "</tr>\n",
       "<tr>\n",
       "  <th>energy_consumption</th> <td>    1.0498</td> <td>    0.007</td> <td>  156.959</td> <td> 0.000</td> <td>    1.036</td> <td>    1.063</td>\n",
       "</tr>\n",
       "<tr>\n",
       "  <th>renew_consumption</th>  <td>   -0.3439</td> <td>    0.014</td> <td>  -24.442</td> <td> 0.000</td> <td>   -0.372</td> <td>   -0.316</td>\n",
       "</tr>\n",
       "</table>\n",
       "<table class=\"simpletable\">\n",
       "<tr>\n",
       "  <th>Omnibus:</th>       <td> 0.839</td> <th>  Durbin-Watson:     </th> <td>   0.556</td>\n",
       "</tr>\n",
       "<tr>\n",
       "  <th>Prob(Omnibus):</th> <td> 0.657</td> <th>  Jarque-Bera (JB):  </th> <td>   0.934</td>\n",
       "</tr>\n",
       "<tr>\n",
       "  <th>Skew:</th>          <td>-0.239</td> <th>  Prob(JB):          </th> <td>   0.627</td>\n",
       "</tr>\n",
       "<tr>\n",
       "  <th>Kurtosis:</th>      <td> 2.577</td> <th>  Cond. No.          </th> <td>    3.57</td>\n",
       "</tr>\n",
       "</table><br/><br/>Warnings:<br/>[1] Standard Errors assume that the covariance matrix of the errors is correctly specified."
      ],
      "text/plain": [
       "<class 'statsmodels.iolib.summary.Summary'>\n",
       "\"\"\"\n",
       "                                 OLS Regression Results                                \n",
       "=======================================================================================\n",
       "Dep. Variable:          co2_emissions   R-squared (uncentered):                   0.999\n",
       "Model:                            OLS   Adj. R-squared (uncentered):              0.999\n",
       "Method:                 Least Squares   F-statistic:                          2.174e+04\n",
       "Date:                Wed, 16 Jun 2021   Prob (F-statistic):                    5.85e-78\n",
       "Time:                        17:28:46   Log-Likelihood:                          128.99\n",
       "No. Observations:                  55   AIC:                                     -254.0\n",
       "Df Residuals:                      53   BIC:                                     -250.0\n",
       "Df Model:                           2                                                  \n",
       "Covariance Type:            nonrobust                                                  \n",
       "======================================================================================\n",
       "                         coef    std err          t      P>|t|      [0.025      0.975]\n",
       "--------------------------------------------------------------------------------------\n",
       "energy_consumption     1.0498      0.007    156.959      0.000       1.036       1.063\n",
       "renew_consumption     -0.3439      0.014    -24.442      0.000      -0.372      -0.316\n",
       "==============================================================================\n",
       "Omnibus:                        0.839   Durbin-Watson:                   0.556\n",
       "Prob(Omnibus):                  0.657   Jarque-Bera (JB):                0.934\n",
       "Skew:                          -0.239   Prob(JB):                        0.627\n",
       "Kurtosis:                       2.577   Cond. No.                         3.57\n",
       "==============================================================================\n",
       "\n",
       "Warnings:\n",
       "[1] Standard Errors assume that the covariance matrix of the errors is correctly specified.\n",
       "\"\"\""
      ]
     },
     "execution_count": 42,
     "metadata": {},
     "output_type": "execute_result"
    }
   ],
   "source": [
    "# Using the two features\n",
    "X = US_data[[\"energy_consumption\",\"renew_consumption\"]] #input variables (or independent variables)\n",
    "y = US_data[\"co2_emissions\"] #output/dependent variable\n",
    "\n",
    "# Note the difference in argument order\n",
    "model = sm.OLS(y, X).fit() ## sm.OLS(output, input)\n",
    "predictions = model.predict(X)\n",
    "\n",
    "# Print out the statistics\n",
    "model.summary()"
   ]
  },
  {
   "cell_type": "markdown",
   "metadata": {
    "cell_id": "00057-79097f88-4cde-41cb-b361-1451b952fba1",
    "deepnote_cell_type": "text-cell-p",
    "tags": []
   },
   "source": [
    "We can see here that this model has a much higher R-squared value 0.999, meaning that this model explains 99.9% of the variance in our dependent variable. Everytime we add variables to a regression model, R² will be higher, but this number shows almost a perfect number of R². We can see that both&nbsp;\"energy_consumption\" and \"renew_consumption\" are statistically significant in predicting (or estimating) the median of co2 emissons. So, combination between \"energy_consumption\" and \"renew_consumption\" are giving high impact on reducing the co2 emissions."
   ]
  },
  {
   "cell_type": "code",
   "execution_count": null,
   "metadata": {
    "cell_id": "00056-e5351e7d-d375-4e0f-97ba-f17977ddca15",
    "deepnote_cell_type": "code",
    "tags": []
   },
   "outputs": [],
   "source": []
  },
  {
   "cell_type": "markdown",
   "metadata": {
    "created_in_deepnote_cell": true,
    "deepnote_cell_type": "markdown",
    "tags": []
   },
   "source": [
    "<a style='text-decoration:none;line-height:16px;display:flex;color:#5B5B62;padding:10px;justify-content:end;' href='https://deepnote.com?utm_source=created-in-deepnote-cell&projectId=f620d388-a26c-4d64-9881-8c93b73bc0b8' target=\"_blank\">\n",
    "<img alt='Created in deepnote.com' style='display:inline;max-height:16px;margin:0px;margin-right:7.5px;' src='data:image/svg+xml;base64,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' > </img>\n",
    "Created in <span style='font-weight:600;margin-left:4px;'>Deepnote</span></a>"
   ]
  }
 ],
 "metadata": {
  "deepnote": {
   "is_reactive": false
  },
  "deepnote_execution_queue": [],
  "deepnote_notebook_id": "cbd22741-e303-4f96-80ed-7c98ef3e1427",
  "kernelspec": {
   "display_name": "Python 3",
   "language": "python",
   "name": "python3"
  },
  "language_info": {
   "codemirror_mode": {
    "name": "ipython",
    "version": 3
   },
   "file_extension": ".py",
   "mimetype": "text/x-python",
   "name": "python",
   "nbconvert_exporter": "python",
   "pygments_lexer": "ipython3",
   "version": "3.7.6"
  }
 },
 "nbformat": 4,
 "nbformat_minor": 2
}
